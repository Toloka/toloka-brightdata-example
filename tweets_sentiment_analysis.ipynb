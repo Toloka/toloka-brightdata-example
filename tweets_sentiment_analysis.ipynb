{
 "cells": [
  {
   "cell_type": "markdown",
   "metadata": {},
   "source": [
    "# Tweets Sentiment Analysis\n",
    "\n",
    "In this tutorial we are going to get tweets from any Twitter profile using BrightData and classify them as “Positive”, “Neutral” or “Negative” with a help from Toloka. We ask workers to read several tweets and decide which category it belongs to."
   ]
  },
  {
   "cell_type": "markdown",
   "metadata": {},
   "source": [
    "To get acquainted with Toloka tools for free, you can use the promo code **TOLOKAKIT1** on $20 on your [profile page](https://toloka.yandex.com/requester/profile?utm_source=github&utm_medium=site&utm_campaign=tolokakit) after registration."
   ]
  },
  {
   "cell_type": "markdown",
   "metadata": {},
   "source": [
    "Prepare environment and import all we'll need."
   ]
  },
  {
   "cell_type": "code",
   "execution_count": 1,
   "metadata": {},
   "outputs": [
    {
     "name": "stdout",
     "output_type": "stream",
     "text": [
      "Requirement already satisfied: toloka-kit==0.1.25 in /Users/mr-fedulow/.pyenv/versions/3.9.0/lib/python3.9/site-packages (0.1.25)\n",
      "Requirement already satisfied: jupyter-dash in /Users/mr-fedulow/.pyenv/versions/3.9.0/lib/python3.9/site-packages (from toloka-kit==0.1.25) (0.4.2)\n",
      "Requirement already satisfied: kazoo>=2.6.1 in /Users/mr-fedulow/.pyenv/versions/3.9.0/lib/python3.9/site-packages (from toloka-kit==0.1.25) (2.8.0)\n",
      "Requirement already satisfied: attrs>=20.3.0 in /Users/mr-fedulow/.pyenv/versions/3.9.0/lib/python3.9/site-packages (from toloka-kit==0.1.25) (21.4.0)\n",
      "Requirement already satisfied: typing-extensions in /Users/mr-fedulow/.pyenv/versions/3.9.0/lib/python3.9/site-packages (from toloka-kit==0.1.25) (4.1.1)\n",
      "Requirement already satisfied: docstring-parser in /Users/mr-fedulow/.pyenv/versions/3.9.0/lib/python3.9/site-packages (from toloka-kit==0.1.25) (0.13)\n",
      "Requirement already satisfied: ipyplot in /Users/mr-fedulow/.pyenv/versions/3.9.0/lib/python3.9/site-packages (from toloka-kit==0.1.25) (1.1.1)\n",
      "Requirement already satisfied: filelock>=3.2.0 in /Users/mr-fedulow/.pyenv/versions/3.9.0/lib/python3.9/site-packages (from toloka-kit==0.1.25) (3.6.0)\n",
      "Requirement already satisfied: pandas in /Users/mr-fedulow/.pyenv/versions/3.9.0/lib/python3.9/site-packages (from toloka-kit==0.1.25) (1.1.5)\n",
      "Requirement already satisfied: boto3>=1.4.7 in /Users/mr-fedulow/.pyenv/versions/3.9.0/lib/python3.9/site-packages (from toloka-kit==0.1.25) (1.21.35)\n",
      "Requirement already satisfied: simplejson in /Users/mr-fedulow/.pyenv/versions/3.9.0/lib/python3.9/site-packages (from toloka-kit==0.1.25) (3.17.6)\n",
      "Requirement already satisfied: urllib3>=1.26.0 in /Users/mr-fedulow/.pyenv/versions/3.9.0/lib/python3.9/site-packages (from toloka-kit==0.1.25) (1.26.7)\n",
      "Requirement already satisfied: cattrs>=1.1.1 in /Users/mr-fedulow/.pyenv/versions/3.9.0/lib/python3.9/site-packages (from toloka-kit==0.1.25) (22.1.0)\n",
      "Requirement already satisfied: plotly in /Users/mr-fedulow/.pyenv/versions/3.9.0/lib/python3.9/site-packages (from toloka-kit==0.1.25) (5.7.0)\n",
      "Requirement already satisfied: requests in /Users/mr-fedulow/.pyenv/versions/3.9.0/lib/python3.9/site-packages (from toloka-kit==0.1.25) (2.27.1)\n",
      "Requirement already satisfied: retrying in /Users/mr-fedulow/.pyenv/versions/3.9.0/lib/python3.9/site-packages (from jupyter-dash->toloka-kit==0.1.25) (1.3.3)\n",
      "Requirement already satisfied: nest-asyncio in /Users/mr-fedulow/.pyenv/versions/3.9.0/lib/python3.9/site-packages (from jupyter-dash->toloka-kit==0.1.25) (1.5.5)\n",
      "Requirement already satisfied: ipykernel in /Users/mr-fedulow/.pyenv/versions/3.9.0/lib/python3.9/site-packages (from jupyter-dash->toloka-kit==0.1.25) (6.13.0)\n",
      "Requirement already satisfied: ipython in /Users/mr-fedulow/.pyenv/versions/3.9.0/lib/python3.9/site-packages (from jupyter-dash->toloka-kit==0.1.25) (8.2.0)\n",
      "Requirement already satisfied: flask in /Users/mr-fedulow/.pyenv/versions/3.9.0/lib/python3.9/site-packages (from jupyter-dash->toloka-kit==0.1.25) (1.0.3)\n",
      "Requirement already satisfied: ansi2html in /Users/mr-fedulow/.pyenv/versions/3.9.0/lib/python3.9/site-packages (from jupyter-dash->toloka-kit==0.1.25) (1.7.0)\n",
      "Requirement already satisfied: dash in /Users/mr-fedulow/.pyenv/versions/3.9.0/lib/python3.9/site-packages (from jupyter-dash->toloka-kit==0.1.25) (2.3.1)\n",
      "Requirement already satisfied: six in /Users/mr-fedulow/.pyenv/versions/3.9.0/lib/python3.9/site-packages (from kazoo>=2.6.1->toloka-kit==0.1.25) (1.16.0)\n",
      "Requirement already satisfied: pillow in /Users/mr-fedulow/.pyenv/versions/3.9.0/lib/python3.9/site-packages (from ipyplot->toloka-kit==0.1.25) (9.1.0)\n",
      "Requirement already satisfied: numpy in /Users/mr-fedulow/.pyenv/versions/3.9.0/lib/python3.9/site-packages (from ipyplot->toloka-kit==0.1.25) (1.22.2)\n",
      "Requirement already satisfied: shortuuid in /Users/mr-fedulow/.pyenv/versions/3.9.0/lib/python3.9/site-packages (from ipyplot->toloka-kit==0.1.25) (1.0.8)\n",
      "Requirement already satisfied: python-dateutil>=2.7.3 in /Users/mr-fedulow/.pyenv/versions/3.9.0/lib/python3.9/site-packages (from pandas->toloka-kit==0.1.25) (2.8.2)\n",
      "Requirement already satisfied: pytz>=2017.2 in /Users/mr-fedulow/.pyenv/versions/3.9.0/lib/python3.9/site-packages (from pandas->toloka-kit==0.1.25) (2022.1)\n",
      "Requirement already satisfied: jmespath<2.0.0,>=0.7.1 in /Users/mr-fedulow/.pyenv/versions/3.9.0/lib/python3.9/site-packages (from boto3>=1.4.7->toloka-kit==0.1.25) (0.10.0)\n",
      "Requirement already satisfied: botocore<1.25.0,>=1.24.35 in /Users/mr-fedulow/.pyenv/versions/3.9.0/lib/python3.9/site-packages (from boto3>=1.4.7->toloka-kit==0.1.25) (1.24.35)\n",
      "Requirement already satisfied: s3transfer<0.6.0,>=0.5.0 in /Users/mr-fedulow/.pyenv/versions/3.9.0/lib/python3.9/site-packages (from boto3>=1.4.7->toloka-kit==0.1.25) (0.5.2)\n",
      "Requirement already satisfied: exceptiongroup; python_version <= \"3.10\" in /Users/mr-fedulow/.pyenv/versions/3.9.0/lib/python3.9/site-packages (from cattrs>=1.1.1->toloka-kit==0.1.25) (1.0.0rc3)\n",
      "Requirement already satisfied: tenacity>=6.2.0 in /Users/mr-fedulow/.pyenv/versions/3.9.0/lib/python3.9/site-packages (from plotly->toloka-kit==0.1.25) (8.0.1)\n",
      "Requirement already satisfied: certifi>=2017.4.17 in /Users/mr-fedulow/.pyenv/versions/3.9.0/lib/python3.9/site-packages (from requests->toloka-kit==0.1.25) (2021.10.8)\n",
      "Requirement already satisfied: idna<4,>=2.5; python_version >= \"3\" in /Users/mr-fedulow/.pyenv/versions/3.9.0/lib/python3.9/site-packages (from requests->toloka-kit==0.1.25) (3.3)\n",
      "Requirement already satisfied: charset-normalizer~=2.0.0; python_version >= \"3\" in /Users/mr-fedulow/.pyenv/versions/3.9.0/lib/python3.9/site-packages (from requests->toloka-kit==0.1.25) (2.0.12)\n",
      "Requirement already satisfied: tornado>=6.1 in /Users/mr-fedulow/.pyenv/versions/3.9.0/lib/python3.9/site-packages (from ipykernel->jupyter-dash->toloka-kit==0.1.25) (6.1)\n",
      "Requirement already satisfied: packaging in /Users/mr-fedulow/.pyenv/versions/3.9.0/lib/python3.9/site-packages (from ipykernel->jupyter-dash->toloka-kit==0.1.25) (21.3)\n",
      "Requirement already satisfied: traitlets>=5.1.0 in /Users/mr-fedulow/.pyenv/versions/3.9.0/lib/python3.9/site-packages (from ipykernel->jupyter-dash->toloka-kit==0.1.25) (5.1.1)\n",
      "Requirement already satisfied: appnope; platform_system == \"Darwin\" in /Users/mr-fedulow/.pyenv/versions/3.9.0/lib/python3.9/site-packages (from ipykernel->jupyter-dash->toloka-kit==0.1.25) (0.1.3)\n",
      "Requirement already satisfied: psutil in /Users/mr-fedulow/.pyenv/versions/3.9.0/lib/python3.9/site-packages (from ipykernel->jupyter-dash->toloka-kit==0.1.25) (5.9.0)\n",
      "Requirement already satisfied: matplotlib-inline>=0.1 in /Users/mr-fedulow/.pyenv/versions/3.9.0/lib/python3.9/site-packages (from ipykernel->jupyter-dash->toloka-kit==0.1.25) (0.1.3)\n",
      "Requirement already satisfied: jupyter-client>=6.1.12 in /Users/mr-fedulow/.pyenv/versions/3.9.0/lib/python3.9/site-packages (from ipykernel->jupyter-dash->toloka-kit==0.1.25) (7.2.2)\n",
      "Requirement already satisfied: debugpy>=1.0 in /Users/mr-fedulow/.pyenv/versions/3.9.0/lib/python3.9/site-packages (from ipykernel->jupyter-dash->toloka-kit==0.1.25) (1.6.0)\n",
      "Requirement already satisfied: jedi>=0.16 in /Users/mr-fedulow/.pyenv/versions/3.9.0/lib/python3.9/site-packages (from ipython->jupyter-dash->toloka-kit==0.1.25) (0.18.1)\n",
      "Requirement already satisfied: decorator in /Users/mr-fedulow/.pyenv/versions/3.9.0/lib/python3.9/site-packages (from ipython->jupyter-dash->toloka-kit==0.1.25) (5.1.1)\n",
      "Requirement already satisfied: setuptools>=18.5 in /Users/mr-fedulow/.pyenv/versions/3.9.0/lib/python3.9/site-packages (from ipython->jupyter-dash->toloka-kit==0.1.25) (59.5.0)\n",
      "Requirement already satisfied: prompt-toolkit!=3.0.0,!=3.0.1,<3.1.0,>=2.0.0 in /Users/mr-fedulow/.pyenv/versions/3.9.0/lib/python3.9/site-packages (from ipython->jupyter-dash->toloka-kit==0.1.25) (3.0.29)\n",
      "Requirement already satisfied: pexpect>4.3; sys_platform != \"win32\" in /Users/mr-fedulow/.pyenv/versions/3.9.0/lib/python3.9/site-packages (from ipython->jupyter-dash->toloka-kit==0.1.25) (4.8.0)\n",
      "Requirement already satisfied: stack-data in /Users/mr-fedulow/.pyenv/versions/3.9.0/lib/python3.9/site-packages (from ipython->jupyter-dash->toloka-kit==0.1.25) (0.2.0)\n",
      "Requirement already satisfied: pygments>=2.4.0 in /Users/mr-fedulow/.pyenv/versions/3.9.0/lib/python3.9/site-packages (from ipython->jupyter-dash->toloka-kit==0.1.25) (2.11.2)\n",
      "Requirement already satisfied: backcall in /Users/mr-fedulow/.pyenv/versions/3.9.0/lib/python3.9/site-packages (from ipython->jupyter-dash->toloka-kit==0.1.25) (0.2.0)\n"
     ]
    },
    {
     "name": "stdout",
     "output_type": "stream",
     "text": [
      "Requirement already satisfied: pickleshare in /Users/mr-fedulow/.pyenv/versions/3.9.0/lib/python3.9/site-packages (from ipython->jupyter-dash->toloka-kit==0.1.25) (0.7.5)\n",
      "Requirement already satisfied: itsdangerous>=0.24 in /Users/mr-fedulow/.pyenv/versions/3.9.0/lib/python3.9/site-packages (from flask->jupyter-dash->toloka-kit==0.1.25) (1.1.0)\n",
      "Requirement already satisfied: Jinja2>=2.10 in /Users/mr-fedulow/.pyenv/versions/3.9.0/lib/python3.9/site-packages (from flask->jupyter-dash->toloka-kit==0.1.25) (3.0.3)\n",
      "Requirement already satisfied: click>=5.1 in /Users/mr-fedulow/.pyenv/versions/3.9.0/lib/python3.9/site-packages (from flask->jupyter-dash->toloka-kit==0.1.25) (7.1.2)\n",
      "Requirement already satisfied: Werkzeug>=0.14 in /Users/mr-fedulow/.pyenv/versions/3.9.0/lib/python3.9/site-packages (from flask->jupyter-dash->toloka-kit==0.1.25) (1.0.1)\n",
      "Requirement already satisfied: dash-table==5.0.0 in /Users/mr-fedulow/.pyenv/versions/3.9.0/lib/python3.9/site-packages (from dash->jupyter-dash->toloka-kit==0.1.25) (5.0.0)\n",
      "Requirement already satisfied: flask-compress in /Users/mr-fedulow/.pyenv/versions/3.9.0/lib/python3.9/site-packages (from dash->jupyter-dash->toloka-kit==0.1.25) (1.11)\n",
      "Requirement already satisfied: dash-html-components==2.0.0 in /Users/mr-fedulow/.pyenv/versions/3.9.0/lib/python3.9/site-packages (from dash->jupyter-dash->toloka-kit==0.1.25) (2.0.0)\n",
      "Requirement already satisfied: dash-core-components==2.0.0 in /Users/mr-fedulow/.pyenv/versions/3.9.0/lib/python3.9/site-packages (from dash->jupyter-dash->toloka-kit==0.1.25) (2.0.0)\n",
      "Requirement already satisfied: pyparsing!=3.0.5,>=2.0.2 in /Users/mr-fedulow/.pyenv/versions/3.9.0/lib/python3.9/site-packages (from packaging->ipykernel->jupyter-dash->toloka-kit==0.1.25) (3.0.7)\n",
      "Requirement already satisfied: jupyter-core>=4.9.2 in /Users/mr-fedulow/.pyenv/versions/3.9.0/lib/python3.9/site-packages (from jupyter-client>=6.1.12->ipykernel->jupyter-dash->toloka-kit==0.1.25) (4.10.0)\n",
      "Requirement already satisfied: entrypoints in /Users/mr-fedulow/.pyenv/versions/3.9.0/lib/python3.9/site-packages (from jupyter-client>=6.1.12->ipykernel->jupyter-dash->toloka-kit==0.1.25) (0.4)\n",
      "Requirement already satisfied: pyzmq>=22.3 in /Users/mr-fedulow/.pyenv/versions/3.9.0/lib/python3.9/site-packages (from jupyter-client>=6.1.12->ipykernel->jupyter-dash->toloka-kit==0.1.25) (22.3.0)\n",
      "Requirement already satisfied: parso<0.9.0,>=0.8.0 in /Users/mr-fedulow/.pyenv/versions/3.9.0/lib/python3.9/site-packages (from jedi>=0.16->ipython->jupyter-dash->toloka-kit==0.1.25) (0.8.3)\n",
      "Requirement already satisfied: wcwidth in /Users/mr-fedulow/.pyenv/versions/3.9.0/lib/python3.9/site-packages (from prompt-toolkit!=3.0.0,!=3.0.1,<3.1.0,>=2.0.0->ipython->jupyter-dash->toloka-kit==0.1.25) (0.2.5)\n",
      "Requirement already satisfied: ptyprocess>=0.5 in /Users/mr-fedulow/.pyenv/versions/3.9.0/lib/python3.9/site-packages (from pexpect>4.3; sys_platform != \"win32\"->ipython->jupyter-dash->toloka-kit==0.1.25) (0.7.0)\n",
      "Requirement already satisfied: executing in /Users/mr-fedulow/.pyenv/versions/3.9.0/lib/python3.9/site-packages (from stack-data->ipython->jupyter-dash->toloka-kit==0.1.25) (0.8.3)\n",
      "Requirement already satisfied: asttokens in /Users/mr-fedulow/.pyenv/versions/3.9.0/lib/python3.9/site-packages (from stack-data->ipython->jupyter-dash->toloka-kit==0.1.25) (2.0.5)\n",
      "Requirement already satisfied: pure-eval in /Users/mr-fedulow/.pyenv/versions/3.9.0/lib/python3.9/site-packages (from stack-data->ipython->jupyter-dash->toloka-kit==0.1.25) (0.2.2)\n",
      "Requirement already satisfied: MarkupSafe>=2.0 in /Users/mr-fedulow/.pyenv/versions/3.9.0/lib/python3.9/site-packages (from Jinja2>=2.10->flask->jupyter-dash->toloka-kit==0.1.25) (2.1.1)\n",
      "Requirement already satisfied: brotli in /Users/mr-fedulow/.pyenv/versions/3.9.0/lib/python3.9/site-packages (from flask-compress->dash->jupyter-dash->toloka-kit==0.1.25) (1.0.9)\n",
      "\u001b[33mWARNING: You are using pip version 20.2.3; however, version 22.1.2 is available.\n",
      "You should consider upgrading via the '/Users/mr-fedulow/.pyenv/versions/3.9.0/bin/python3.9 -m pip install --upgrade pip' command.\u001b[0m\n",
      "Requirement already satisfied: crowd-kit==1.0.0 in /Users/mr-fedulow/.pyenv/versions/3.9.0/lib/python3.9/site-packages (1.0.0)\n",
      "Requirement already satisfied: numpy in /Users/mr-fedulow/.pyenv/versions/3.9.0/lib/python3.9/site-packages (from crowd-kit==1.0.0) (1.22.2)\n",
      "Requirement already satisfied: attrs in /Users/mr-fedulow/.pyenv/versions/3.9.0/lib/python3.9/site-packages (from crowd-kit==1.0.0) (21.4.0)\n",
      "Requirement already satisfied: nltk in /Users/mr-fedulow/.pyenv/versions/3.9.0/lib/python3.9/site-packages (from crowd-kit==1.0.0) (3.7)\n",
      "Requirement already satisfied: scikit-learn in /Users/mr-fedulow/.pyenv/versions/3.9.0/lib/python3.9/site-packages (from crowd-kit==1.0.0) (1.0.2)\n",
      "Requirement already satisfied: pandas>=1.1.0 in /Users/mr-fedulow/.pyenv/versions/3.9.0/lib/python3.9/site-packages (from crowd-kit==1.0.0) (1.1.5)\n",
      "Requirement already satisfied: transformers in /Users/mr-fedulow/.pyenv/versions/3.9.0/lib/python3.9/site-packages (from crowd-kit==1.0.0) (4.17.0)\n",
      "Requirement already satisfied: tqdm in /Users/mr-fedulow/.pyenv/versions/3.9.0/lib/python3.9/site-packages (from crowd-kit==1.0.0) (4.64.0)\n",
      "Requirement already satisfied: click in /Users/mr-fedulow/.pyenv/versions/3.9.0/lib/python3.9/site-packages (from nltk->crowd-kit==1.0.0) (7.1.2)\n",
      "Requirement already satisfied: joblib in /Users/mr-fedulow/.pyenv/versions/3.9.0/lib/python3.9/site-packages (from nltk->crowd-kit==1.0.0) (1.1.0)\n",
      "Requirement already satisfied: regex>=2021.8.3 in /Users/mr-fedulow/.pyenv/versions/3.9.0/lib/python3.9/site-packages (from nltk->crowd-kit==1.0.0) (2022.3.15)\n",
      "Requirement already satisfied: scipy>=1.1.0 in /Users/mr-fedulow/.pyenv/versions/3.9.0/lib/python3.9/site-packages (from scikit-learn->crowd-kit==1.0.0) (1.8.0)\n",
      "Requirement already satisfied: threadpoolctl>=2.0.0 in /Users/mr-fedulow/.pyenv/versions/3.9.0/lib/python3.9/site-packages (from scikit-learn->crowd-kit==1.0.0) (3.1.0)\n",
      "Requirement already satisfied: python-dateutil>=2.7.3 in /Users/mr-fedulow/.pyenv/versions/3.9.0/lib/python3.9/site-packages (from pandas>=1.1.0->crowd-kit==1.0.0) (2.8.2)\n",
      "Requirement already satisfied: pytz>=2017.2 in /Users/mr-fedulow/.pyenv/versions/3.9.0/lib/python3.9/site-packages (from pandas>=1.1.0->crowd-kit==1.0.0) (2022.1)\n",
      "Requirement already satisfied: sacremoses in /Users/mr-fedulow/.pyenv/versions/3.9.0/lib/python3.9/site-packages (from transformers->crowd-kit==1.0.0) (0.0.49)\n",
      "Requirement already satisfied: pyyaml>=5.1 in /Users/mr-fedulow/.pyenv/versions/3.9.0/lib/python3.9/site-packages (from transformers->crowd-kit==1.0.0) (6.0)\n",
      "Requirement already satisfied: requests in /Users/mr-fedulow/.pyenv/versions/3.9.0/lib/python3.9/site-packages (from transformers->crowd-kit==1.0.0) (2.27.1)\n",
      "Requirement already satisfied: packaging>=20.0 in /Users/mr-fedulow/.pyenv/versions/3.9.0/lib/python3.9/site-packages (from transformers->crowd-kit==1.0.0) (21.3)\n",
      "Requirement already satisfied: huggingface-hub<1.0,>=0.1.0 in /Users/mr-fedulow/.pyenv/versions/3.9.0/lib/python3.9/site-packages (from transformers->crowd-kit==1.0.0) (0.4.0)\n",
      "Requirement already satisfied: filelock in /Users/mr-fedulow/.pyenv/versions/3.9.0/lib/python3.9/site-packages (from transformers->crowd-kit==1.0.0) (3.6.0)\n",
      "Requirement already satisfied: tokenizers!=0.11.3,>=0.11.1 in /Users/mr-fedulow/.pyenv/versions/3.9.0/lib/python3.9/site-packages (from transformers->crowd-kit==1.0.0) (0.11.6)\n",
      "Requirement already satisfied: six>=1.5 in /Users/mr-fedulow/.pyenv/versions/3.9.0/lib/python3.9/site-packages (from python-dateutil>=2.7.3->pandas>=1.1.0->crowd-kit==1.0.0) (1.16.0)\n",
      "Requirement already satisfied: idna<4,>=2.5; python_version >= \"3\" in /Users/mr-fedulow/.pyenv/versions/3.9.0/lib/python3.9/site-packages (from requests->transformers->crowd-kit==1.0.0) (3.3)\n",
      "Requirement already satisfied: urllib3<1.27,>=1.21.1 in /Users/mr-fedulow/.pyenv/versions/3.9.0/lib/python3.9/site-packages (from requests->transformers->crowd-kit==1.0.0) (1.26.7)\n",
      "Requirement already satisfied: charset-normalizer~=2.0.0; python_version >= \"3\" in /Users/mr-fedulow/.pyenv/versions/3.9.0/lib/python3.9/site-packages (from requests->transformers->crowd-kit==1.0.0) (2.0.12)\n",
      "Requirement already satisfied: certifi>=2017.4.17 in /Users/mr-fedulow/.pyenv/versions/3.9.0/lib/python3.9/site-packages (from requests->transformers->crowd-kit==1.0.0) (2021.10.8)\n",
      "Requirement already satisfied: pyparsing!=3.0.5,>=2.0.2 in /Users/mr-fedulow/.pyenv/versions/3.9.0/lib/python3.9/site-packages (from packaging>=20.0->transformers->crowd-kit==1.0.0) (3.0.7)\n",
      "Requirement already satisfied: typing-extensions>=3.7.4.3 in /Users/mr-fedulow/.pyenv/versions/3.9.0/lib/python3.9/site-packages (from huggingface-hub<1.0,>=0.1.0->transformers->crowd-kit==1.0.0) (4.1.1)\n"
     ]
    },
    {
     "name": "stdout",
     "output_type": "stream",
     "text": [
      "\u001b[33mWARNING: You are using pip version 20.2.3; however, version 22.1.2 is available.\n",
      "You should consider upgrading via the '/Users/mr-fedulow/.pyenv/versions/3.9.0/bin/python3.9 -m pip install --upgrade pip' command.\u001b[0m\n",
      "Requirement already satisfied: ipyplot in /Users/mr-fedulow/.pyenv/versions/3.9.0/lib/python3.9/site-packages (1.1.1)\n",
      "Requirement already satisfied: numpy in /Users/mr-fedulow/.pyenv/versions/3.9.0/lib/python3.9/site-packages (from ipyplot) (1.22.2)\n",
      "Requirement already satisfied: IPython in /Users/mr-fedulow/.pyenv/versions/3.9.0/lib/python3.9/site-packages (from ipyplot) (8.2.0)\n",
      "Requirement already satisfied: shortuuid in /Users/mr-fedulow/.pyenv/versions/3.9.0/lib/python3.9/site-packages (from ipyplot) (1.0.8)\n",
      "Requirement already satisfied: pillow in /Users/mr-fedulow/.pyenv/versions/3.9.0/lib/python3.9/site-packages (from ipyplot) (9.1.0)\n",
      "Requirement already satisfied: pickleshare in /Users/mr-fedulow/.pyenv/versions/3.9.0/lib/python3.9/site-packages (from IPython->ipyplot) (0.7.5)\n",
      "Requirement already satisfied: decorator in /Users/mr-fedulow/.pyenv/versions/3.9.0/lib/python3.9/site-packages (from IPython->ipyplot) (5.1.1)\n",
      "Requirement already satisfied: prompt-toolkit!=3.0.0,!=3.0.1,<3.1.0,>=2.0.0 in /Users/mr-fedulow/.pyenv/versions/3.9.0/lib/python3.9/site-packages (from IPython->ipyplot) (3.0.29)\n",
      "Requirement already satisfied: backcall in /Users/mr-fedulow/.pyenv/versions/3.9.0/lib/python3.9/site-packages (from IPython->ipyplot) (0.2.0)\n",
      "Requirement already satisfied: pexpect>4.3; sys_platform != \"win32\" in /Users/mr-fedulow/.pyenv/versions/3.9.0/lib/python3.9/site-packages (from IPython->ipyplot) (4.8.0)\n",
      "Requirement already satisfied: appnope; sys_platform == \"darwin\" in /Users/mr-fedulow/.pyenv/versions/3.9.0/lib/python3.9/site-packages (from IPython->ipyplot) (0.1.3)\n",
      "Requirement already satisfied: traitlets>=5 in /Users/mr-fedulow/.pyenv/versions/3.9.0/lib/python3.9/site-packages (from IPython->ipyplot) (5.1.1)\n",
      "Requirement already satisfied: stack-data in /Users/mr-fedulow/.pyenv/versions/3.9.0/lib/python3.9/site-packages (from IPython->ipyplot) (0.2.0)\n",
      "Requirement already satisfied: matplotlib-inline in /Users/mr-fedulow/.pyenv/versions/3.9.0/lib/python3.9/site-packages (from IPython->ipyplot) (0.1.3)\n",
      "Requirement already satisfied: setuptools>=18.5 in /Users/mr-fedulow/.pyenv/versions/3.9.0/lib/python3.9/site-packages (from IPython->ipyplot) (59.5.0)\n",
      "Requirement already satisfied: jedi>=0.16 in /Users/mr-fedulow/.pyenv/versions/3.9.0/lib/python3.9/site-packages (from IPython->ipyplot) (0.18.1)\n",
      "Requirement already satisfied: pygments>=2.4.0 in /Users/mr-fedulow/.pyenv/versions/3.9.0/lib/python3.9/site-packages (from IPython->ipyplot) (2.11.2)\n",
      "Requirement already satisfied: wcwidth in /Users/mr-fedulow/.pyenv/versions/3.9.0/lib/python3.9/site-packages (from prompt-toolkit!=3.0.0,!=3.0.1,<3.1.0,>=2.0.0->IPython->ipyplot) (0.2.5)\n",
      "Requirement already satisfied: ptyprocess>=0.5 in /Users/mr-fedulow/.pyenv/versions/3.9.0/lib/python3.9/site-packages (from pexpect>4.3; sys_platform != \"win32\"->IPython->ipyplot) (0.7.0)\n",
      "Requirement already satisfied: executing in /Users/mr-fedulow/.pyenv/versions/3.9.0/lib/python3.9/site-packages (from stack-data->IPython->ipyplot) (0.8.3)\n",
      "Requirement already satisfied: pure-eval in /Users/mr-fedulow/.pyenv/versions/3.9.0/lib/python3.9/site-packages (from stack-data->IPython->ipyplot) (0.2.2)\n",
      "Requirement already satisfied: asttokens in /Users/mr-fedulow/.pyenv/versions/3.9.0/lib/python3.9/site-packages (from stack-data->IPython->ipyplot) (2.0.5)\n",
      "Requirement already satisfied: parso<0.9.0,>=0.8.0 in /Users/mr-fedulow/.pyenv/versions/3.9.0/lib/python3.9/site-packages (from jedi>=0.16->IPython->ipyplot) (0.8.3)\n",
      "Requirement already satisfied: six in /Users/mr-fedulow/.pyenv/versions/3.9.0/lib/python3.9/site-packages (from asttokens->stack-data->IPython->ipyplot) (1.16.0)\n",
      "\u001b[33mWARNING: You are using pip version 20.2.3; however, version 22.1.2 is available.\n",
      "You should consider upgrading via the '/Users/mr-fedulow/.pyenv/versions/3.9.0/bin/python3.9 -m pip install --upgrade pip' command.\u001b[0m\n"
     ]
    }
   ],
   "source": [
    "!pip install toloka-kit==0.1.25\n",
    "!pip install crowd-kit==1.0.0\n",
    "!pip install ipyplot\n",
    "\n",
    "import datetime\n",
    "import getpass\n",
    "import json\n",
    "import requests\n",
    "import sys\n",
    "import time\n",
    "import logging\n",
    "\n",
    "import numpy as np\n",
    "import pandas as pd\n",
    "pd.set_option('display.max_colwidth', None)\n",
    "\n",
    "import toloka.client as toloka\n",
    "import toloka.client.project.template_builder as tb\n",
    "from crowdkit.aggregation import DawidSkene\n",
    "\n",
    "logging.basicConfig(\n",
    "    format='[%(levelname)s] %(name)s: %(message)s',\n",
    "    level=logging.INFO,\n",
    "    stream=sys.stdout,\n",
    ")"
   ]
  },
  {
   "cell_type": "markdown",
   "metadata": {},
   "source": [
    "Сreate toloka-client instance. All api calls will go through it. More about OAuth token in our [Learn the basics example](https://github.com/Toloka/toloka-kit/tree/main/examples/0.getting_started/0.learn_the_basics) [![Open In Colab](https://colab.research.google.com/assets/colab-badge.svg)](https://colab.research.google.com/github/Toloka/toloka-kit/blob/main/examples/0.getting_started/0.learn_the_basics/learn_the_basics.ipynb)"
   ]
  },
  {
   "cell_type": "code",
   "execution_count": 2,
   "metadata": {},
   "outputs": [
    {
     "name": "stdout",
     "output_type": "stream",
     "text": [
      "Enter your OAuth token: ········\n",
      "Requester(_unexpected={}, id='b39ea2ce2474c437ed0ee0d4aeec630b', balance=Decimal('671.4218'), public_name={'EN': 'Ya.Apollyon', 'FR': 'Ya.Apollyon', 'ID': 'Ya.Apollyon', 'RU': 'Я.Аполлион', 'TR': 'Ya.Apollyon'}, company=Requester.Company(_unexpected={}, id='1', superintendent_id='56caaaeeea84b3b3765420ef45a08262'))\n"
     ]
    }
   ],
   "source": [
    "toloka_client = toloka.TolokaClient(getpass.getpass('Enter your OAuth token: '), 'PRODUCTION') # Or switch to 'SANDBOX'\n",
    "print(toloka_client.get_requester())"
   ]
  },
  {
   "cell_type": "markdown",
   "metadata": {},
   "source": [
    "## Project creation"
   ]
  },
  {
   "cell_type": "markdown",
   "metadata": {},
   "source": [
    "<b>Note</b>: The project name and description will be visible to the workers."
   ]
  },
  {
   "cell_type": "code",
   "execution_count": 3,
   "metadata": {},
   "outputs": [],
   "source": [
    "project = toloka.Project(\n",
    "    public_name='Classify tweets as positive, neutral or negative',\n",
    "    public_description='Decide whether a tweet is positive, neutral or negative'\n",
    ")"
   ]
  },
  {
   "cell_type": "markdown",
   "metadata": {},
   "source": [
    "Create task interface. Read more about the Template Builder in the [Requester’s Guide](https://yandex.ru/support/toloka-tb/index.html?utm_source=github&utm_medium=site&utm_campaign=tolokakit)."
   ]
  },
  {
   "cell_type": "code",
   "execution_count": 4,
   "metadata": {},
   "outputs": [],
   "source": [
    "review_view = tb.GroupViewV1(tb.TextViewV1(tb.InputData('tweet')))\n",
    "\n",
    "radio_group_field = tb.ButtonRadioGroupFieldV1(\n",
    "    tb.OutputData('sentiment'),\n",
    "    [\n",
    "        tb.GroupFieldOption('pos', 'Positive'),\n",
    "        tb.GroupFieldOption('neu', 'Neutral'),\n",
    "        tb.GroupFieldOption('neg', 'Negative'),\n",
    "    ],\n",
    "    label='Is this tweet positive, neutral or negative?',\n",
    "    validation=tb.RequiredConditionV1(),\n",
    ")\n",
    "\n",
    "task_width_plugin = tb.TolokaPluginV1(\n",
    "    layout=tb.TolokaPluginV1.TolokaPluginLayout(\n",
    "        kind='scroll',\n",
    "        task_width=650,\n",
    "    )\n",
    ")\n",
    "\n",
    "hot_keys_plugin = tb.HotkeysPluginV1(\n",
    "    key_1=tb.SetActionV1(tb.OutputData('sentiment'), 'pos'),\n",
    "    key_2=tb.SetActionV1(tb.OutputData('sentiment'), 'neu'),\n",
    "    key_3=tb.SetActionV1(tb.OutputData('sentiment'), 'neg'),\n",
    ")\n",
    "\n",
    "project_interface = toloka.project.view_spec.TemplateBuilderViewSpec(\n",
    "    view=tb.ListViewV1([review_view, radio_group_field]),\n",
    "    plugins=[task_width_plugin, hot_keys_plugin],\n",
    ")"
   ]
  },
  {
   "cell_type": "markdown",
   "metadata": {},
   "source": [
    "<b>Note</b>: Specifications are a description of input data that will be used in a project and the output data that will be collected from the workers.\n",
    "\n",
    "Read more about input and output data specifications in the [Requester’s Guide](https://yandex.ru/support/toloka-tb/operations/create-specs.html?utm_source=github&utm_medium=site&utm_campaign=tolokakit)."
   ]
  },
  {
   "cell_type": "code",
   "execution_count": 5,
   "metadata": {},
   "outputs": [],
   "source": [
    "input_specification = {'tweet': toloka.project.field_spec.StringSpec()}\n",
    "output_specification = {'sentiment': toloka.project.field_spec.StringSpec()}"
   ]
  },
  {
   "cell_type": "markdown",
   "metadata": {},
   "source": [
    "Set task interface and data specifications to project."
   ]
  },
  {
   "cell_type": "code",
   "execution_count": 6,
   "metadata": {},
   "outputs": [],
   "source": [
    "project.task_spec = toloka.project.task_spec.TaskSpec(\n",
    "    input_spec=input_specification,\n",
    "    output_spec=output_specification,\n",
    "    view_spec=project_interface,\n",
    ")"
   ]
  },
  {
   "cell_type": "markdown",
   "metadata": {},
   "source": [
    "Write comprehensive instructions. Be sure to add examples for unobvious cases."
   ]
  },
  {
   "cell_type": "code",
   "execution_count": 7,
   "metadata": {},
   "outputs": [],
   "source": [
    "project.public_instructions = \"\"\"<p>In the task you will have to read tweets and define whether they are positive, neutral or negative</p>\n",
    "<ul><li><b>Positive.</b> Choose this option if the tweet reflects a user's <b>good</b> attitude towards the topic. For your convenience, you can also use the short-cut by pressing \"1\"</li>\n",
    "<li><b>Neutral.</b> Choose this option if the tweet reflects a user's <b>neutral</b> attitude towards the topic or <b>no emotions</b> about the topic at all. For your convenience, you can also use the short-cut by pressing \"2\"</li>\n",
    "<li><b>Negative.</b> Choose this option if the tweet reflects a user's <b>bad</b> attitude towards the topic. For your convenience, you can also use the short-cut by pressing \"3\"</li>\n",
    "</ul>\"\"\""
   ]
  },
  {
   "cell_type": "markdown",
   "metadata": {},
   "source": [
    "Create a project."
   ]
  },
  {
   "cell_type": "code",
   "execution_count": 8,
   "metadata": {},
   "outputs": [
    {
     "name": "stdout",
     "output_type": "stream",
     "text": [
      "[INFO] toloka.client: A new project with ID \"96206\" has been created. Link to open in web interface: https://toloka.yandex.com/requester/project/96206\n"
     ]
    }
   ],
   "source": [
    "project = toloka_client.create_project(project)"
   ]
  },
  {
   "cell_type": "markdown",
   "metadata": {},
   "source": [
    "## Create training and exam pool"
   ]
  },
  {
   "cell_type": "markdown",
   "metadata": {},
   "source": [
    "As we want to be sure that the quality of labelled data is good and workers haven't just picked labels randomly, we are going to follow one of the most popular crowd labelling pattern: Train-Exam-Main Pool. Before working with non-spoiled data in main pool, workers will train their skills in **training set**, which contains labelled data with hints shown to worker after sending their guesses. Then worker passes an **exam** and after successful copleteion get a **skill**.\n",
    "\n",
    "A pool is a set of paid tasks grouped into task pages. These tasks are sent out for completion at the same time.\n",
    "\n",
    "<b>Note</b>: All tasks within a pool have the same settings (price, quality control, etc.)\n",
    "\n",
    "We start with creating a Training pool and upload training tasks."
   ]
  },
  {
   "cell_type": "code",
   "execution_count": 9,
   "metadata": {},
   "outputs": [],
   "source": [
    "training_dataset = pd.read_csv('training_tasks.csv').sample(frac=1)\n",
    "exam_dataset = pd.read_csv('exam_tasks.csv').sample(frac=1)"
   ]
  },
  {
   "cell_type": "code",
   "execution_count": 10,
   "metadata": {},
   "outputs": [
    {
     "name": "stdout",
     "output_type": "stream",
     "text": [
      "[INFO] toloka.client: A new training with ID \"33804144\" has been created. Link to open in web interface: https://toloka.yandex.com/requester/project/96206/training/33804144\n"
     ]
    }
   ],
   "source": [
    "training = toloka.Training(\n",
    "    project_id=project.id,\n",
    "    private_name='Tweets sentiment training',\n",
    "    may_contain_adult_content=False,\n",
    "    assignment_max_duration_seconds=60*10,\n",
    "    mix_tasks_in_creation_order=True,\n",
    "    shuffle_tasks_in_task_suite=True,\n",
    "    training_tasks_in_task_suite_count=10,\n",
    "    task_suites_required_to_pass=3,\n",
    "    retry_training_after_days=2,\n",
    "    inherited_instructions=True,\n",
    ")\n",
    "training = toloka_client.create_training(training)"
   ]
  },
  {
   "cell_type": "code",
   "execution_count": 11,
   "metadata": {},
   "outputs": [],
   "source": [
    "hint_messages = {\n",
    "    'pos': 'This tweet shows mostly positive attitude towards the topic',\n",
    "    'neu': 'This tweet shows neutral attitude towards the topic or just give some information',\n",
    "    'neg': 'This tweet shows mostly negative attitude towards the topic',\n",
    "}\n",
    "\n",
    "training_tasks = [\n",
    "    toloka.Task(\n",
    "        pool_id=training.id,\n",
    "        input_values={\n",
    "            'tweet': row.tweet\n",
    "        },\n",
    "        known_solutions = [toloka.task.BaseTask.KnownSolution(output_values={'sentiment': row.sentiment})],\n",
    "        message_on_unknown_solution=hint_messages[row.sentiment],\n",
    "    )\n",
    "    for row in training_dataset.itertuples()\n",
    "]\n",
    "training_tasks = toloka_client.create_tasks(training_tasks, allow_defaults=True)"
   ]
  },
  {
   "cell_type": "markdown",
   "metadata": {},
   "source": [
    "Then we prepare an **exam pool** with a skill to be given to worker."
   ]
  },
  {
   "cell_type": "code",
   "execution_count": 12,
   "metadata": {},
   "outputs": [
    {
     "name": "stdout",
     "output_type": "stream",
     "text": [
      "Tweets sentiment exam exists\n"
     ]
    }
   ],
   "source": [
    "exam_skill = next(toloka_client.get_skills(name='Tweets sentiment exam'), None)\n",
    "if exam_skill:\n",
    "    print('Tweets sentiment exam exists')\n",
    "else:\n",
    "    exam_skill = toloka_client.create_skill(\n",
    "        name='Tweets sentiment exam',\n",
    "        hidden=True,\n",
    "        public_requester_description={'EN': 'How performer deal with tweets sentiment exam'},\n",
    "    )"
   ]
  },
  {
   "cell_type": "code",
   "execution_count": 13,
   "metadata": {},
   "outputs": [],
   "source": [
    "exam = toloka.Pool(\n",
    "    project_id=project.id,\n",
    "    # Give the pool any convenient name. You are the only one who will see it.\n",
    "    private_name='Classify tweets as positive, neutral or negative - exam',\n",
    "    may_contain_adult_content=False,\n",
    "    type='EXAM',\n",
    "    # Set the price per task page.\n",
    "    reward_per_assignment=0,\n",
    "    will_expire=datetime.datetime.utcnow() + datetime.timedelta(days=365),\n",
    "    # Time allowed for completing a task page\n",
    "    assignment_max_duration_seconds=600,\n",
    "    filter=(toloka.filter.Languages.in_('EN')),\n",
    ")\n",
    "\n",
    "exam.set_mixer_config(golden_tasks_count=10)"
   ]
  },
  {
   "cell_type": "code",
   "execution_count": 14,
   "metadata": {},
   "outputs": [],
   "source": [
    "exam.set_training_requirement(training_pool_id=training.id, training_passing_skill_value=10)"
   ]
  },
  {
   "cell_type": "code",
   "execution_count": 15,
   "metadata": {},
   "outputs": [],
   "source": [
    "exam.quality_control.add_action(\n",
    "    collector=toloka.collectors.GoldenSet(history_size=10),\n",
    "    conditions=[toloka.conditions.TotalAnswersCount >= 10,],\n",
    "    action=toloka.actions.SetSkillFromOutputField(\n",
    "        skill_id=exam_skill.id,\n",
    "        from_field='correct_answers_rate',\n",
    "    ),\n",
    ")"
   ]
  },
  {
   "cell_type": "code",
   "execution_count": 16,
   "metadata": {},
   "outputs": [
    {
     "name": "stdout",
     "output_type": "stream",
     "text": [
      "[INFO] toloka.client: A new pool with ID \"33804145\" has been created. Link to open in web interface: https://toloka.yandex.com/requester/project/96206/pool/33804145\n"
     ]
    }
   ],
   "source": [
    "exam = toloka_client.create_pool(exam)"
   ]
  },
  {
   "cell_type": "code",
   "execution_count": 17,
   "metadata": {},
   "outputs": [
    {
     "name": "stdout",
     "output_type": "stream",
     "text": [
      "36\n"
     ]
    }
   ],
   "source": [
    "exam_tasks = [\n",
    "    toloka.Task(\n",
    "        pool_id=exam.id,\n",
    "        input_values={\n",
    "            'tweet': row.tweet\n",
    "        },\n",
    "        known_solutions = [toloka.task.BaseTask.KnownSolution(output_values={'sentiment': row.sentiment})],\n",
    "        infinite_overlap=True,\n",
    "    )\n",
    "    for row in exam_dataset.itertuples()\n",
    "]\n",
    "exam_tasks = toloka_client.create_tasks(exam_tasks, allow_defaults=True)\n",
    "print(len(exam_tasks.items))"
   ]
  },
  {
   "cell_type": "markdown",
   "metadata": {},
   "source": [
    "## Create the main pool\n",
    "\n",
    "Specify the [pool parameters.](https://toloka.ai/docs/guide/concepts/pool_poolparams.html?utm_source=github&utm_medium=site&utm_campaign=tolokakit)\n",
    "\n",
    "Binary classification tasks are normally paid as basic tasks because these tasks do not take much time. Read more about [pricing principles](https://toloka.ai/knowledgebase/pricing?utm_source=github&utm_medium=site&utm_campaign=tolokakit) in our Knowledge Base.\n",
    "\n",
    "Choose `Languages.in_('EN')` as your first filter. This way, performers who speak English will be invited to complete this task.\n",
    "These filters will make it possible for performers to complete your task on their computers or mobile devices."
   ]
  },
  {
   "cell_type": "code",
   "execution_count": 18,
   "metadata": {},
   "outputs": [],
   "source": [
    "pool = toloka.Pool(\n",
    "    project_id=project.id,\n",
    "    # Give the pool any name you find suitable. You are the only one who will see it.\n",
    "    private_name='Classify Elon Musk\\'s tweets as positive, neutral or negative',\n",
    "    may_contain_adult_content=False,\n",
    "    # Set the price per task suite.\n",
    "    reward_per_assignment=0.01,\n",
    "    will_expire=datetime.datetime.utcnow() + datetime.timedelta(days=365),\n",
    "    # Overlap. This is the number of users who will complete the same task.\n",
    "    # Set an overlap of 3 to get a more confident final label.\n",
    "    defaults=toloka.Pool.Defaults(default_overlap_for_new_task_suites=3),\n",
    "    # Specify the time given to complete a task suite (for example, 1200 seconds). To understand how much time it should take to\n",
    "    # complete a task suite, try doing it yourself.\n",
    "    assignment_max_duration_seconds=600,\n",
    "    # Filter performers who can access the task.\n",
    "    filter=(\n",
    "        (toloka.filter.Languages.in_('EN')) &\n",
    "        (toloka.filter.Skill(exam_skill.id) >= 90)\n",
    "    )\n",
    ")\n"
   ]
  },
  {
   "cell_type": "markdown",
   "metadata": {},
   "source": [
    "## Set up Quality control."
   ]
  },
  {
   "cell_type": "markdown",
   "metadata": {},
   "source": [
    "Ban performers who give incorrect responses to control tasks.\n",
    "\n",
    "Since tasks such as these have an answer that can be used as a ground truth, we can use standard quality control rules such as golden sets.\n",
    "\n",
    "Read more about [quality control principles](https://toloka.ai/knowledgebase/quality-control?utm_source=github&utm_medium=site&utm_campaign=tolokakit) in our Knowledge Base or [check out control tasks settings](https://toloka.ai/docs/guide/concepts/goldenset.html?utm_source=github&utm_medium=site&utm_campaign=tolokakit) in the Requester’s Guide."
   ]
  },
  {
   "cell_type": "markdown",
   "metadata": {},
   "source": [
    "Set up a rule for Captcha. It will be shown at low frequency and those performers who are not accurate will be suspended in the pool for a day.\n",
    "\n",
    "Captcha is a good tool to check performers’ attention. Read more about different Quality Control rules in [Toloka Knowledge Base.](https://toloka.ai/knowledgebase/quality-control?utm_source=github&utm_medium=site&utm_campaign=tolokakit)\n"
   ]
  },
  {
   "cell_type": "code",
   "execution_count": 19,
   "metadata": {},
   "outputs": [],
   "source": [
    "# Turns on captchas\n",
    "pool.set_captcha_frequency('MEDIUM')\n",
    "\n",
    "pool.quality_control.add_action(\n",
    "    collector=toloka.collectors.Captcha(history_size=10),\n",
    "    conditions=[\n",
    "        toloka.conditions.StoredResultsCount >= 4,\n",
    "        toloka.conditions.SuccessRate < 75,\n",
    "    ],\n",
    "    action=toloka.actions.RestrictionV2(\n",
    "        scope='PROJECT',\n",
    "        duration=1,\n",
    "        duration_unit='DAYS',\n",
    "        private_comment='captcha'\n",
    "    )\n",
    ")"
   ]
  },
  {
   "cell_type": "markdown",
   "metadata": {},
   "source": [
    "Set up the [Fast responses rule](https://toloka.ai/docs/guide/concepts/quick-answers.html?utm_source=github&utm_medium=site&utm_campaign=tolokakit). It allows to ban performers who submit tasks at a suspicious speed."
   ]
  },
  {
   "cell_type": "code",
   "execution_count": 20,
   "metadata": {},
   "outputs": [],
   "source": [
    "pool.quality_control.add_action(\n",
    "    collector=toloka.collectors.AssignmentSubmitTime(fast_submit_threshold_seconds=20),\n",
    "    conditions=[\n",
    "        toloka.conditions.TotalSubmittedCount > 4,\n",
    "        toloka.conditions.FastSubmittedCount > 2,\n",
    "    ],\n",
    "    action=toloka.actions.RestrictionV2(\n",
    "        scope='PROJECT',\n",
    "        duration=1,\n",
    "        duration_unit='DAYS',\n",
    "        private_comment='fast responses'\n",
    "    )\n",
    ")"
   ]
  },
  {
   "cell_type": "markdown",
   "metadata": {},
   "source": [
    "Set up the [Submitted responses](https://toloka.ai/docs/guide/concepts/submitted-answers.html?utm_source=github&utm_medium=site&utm_campaign=tolokakit) rule. This is used to get more variety in answers so that the answers won’t be biased toward only a few productive performers."
   ]
  },
  {
   "cell_type": "code",
   "execution_count": 21,
   "metadata": {},
   "outputs": [],
   "source": [
    "pool.quality_control.add_action(\n",
    "    collector=toloka.collectors.AnswerCount(),\n",
    "    conditions=[\n",
    "        toloka.conditions.AssignmentsAcceptedCount >= 30,\n",
    "    ],\n",
    "    action=toloka.actions.RestrictionV2(\n",
    "        scope='PROJECT',\n",
    "        duration=1,\n",
    "        duration_unit='DAYS',\n",
    "        private_comment='too many responses'\n",
    "    )\n",
    ")"
   ]
  },
  {
   "cell_type": "markdown",
   "metadata": {},
   "source": [
    "Set Smart mixing option in pool settings and specify the number of tasks of each type per page. We recommend to put as much tasks in one page as a performer can complete in 1 to 5 minutes. This volume does not let performers get tired and protects them from significant data losses in case of a technical issue. To learn more how to group tasks in suites, read the Requester’s Guide."
   ]
  },
  {
   "cell_type": "code",
   "execution_count": 22,
   "metadata": {},
   "outputs": [],
   "source": [
    "pool.set_mixer_config(real_tasks_count=7, golden_tasks_count=3, training_tasks_count=0)"
   ]
  },
  {
   "cell_type": "markdown",
   "metadata": {},
   "source": [
    "Create pool."
   ]
  },
  {
   "cell_type": "code",
   "execution_count": 23,
   "metadata": {},
   "outputs": [
    {
     "name": "stdout",
     "output_type": "stream",
     "text": [
      "[INFO] toloka.client: A new pool with ID \"33804147\" has been created. Link to open in web interface: https://toloka.yandex.com/requester/project/96206/pool/33804147\n"
     ]
    }
   ],
   "source": [
    "pool = toloka_client.create_pool(pool)"
   ]
  },
  {
   "cell_type": "markdown",
   "metadata": {},
   "source": [
    "## Collect tweets from bright data collector"
   ]
  },
  {
   "cell_type": "markdown",
   "metadata": {},
   "source": [
    "Now we need to have a data which we want to be labelled. We use Bright Data Collector to get the most up-to-date tweets from Elon Musk's profile.\n",
    "\n",
    "What you need to proceed with the demo is Bright Data API token and Data Collector ID."
   ]
  },
  {
   "cell_type": "code",
   "execution_count": 24,
   "metadata": {},
   "outputs": [
    {
     "name": "stdout",
     "output_type": "stream",
     "text": [
      "Enter Bright Data API token: ········\n"
     ]
    }
   ],
   "source": [
    "brightdata_api = getpass.getpass('Enter Bright Data API token: ')"
   ]
  },
  {
   "cell_type": "code",
   "execution_count": 25,
   "metadata": {},
   "outputs": [
    {
     "name": "stdout",
     "output_type": "stream",
     "text": [
      "Enter Bright Data Collector ID: ········\n"
     ]
    }
   ],
   "source": [
    "brightdata_collector = getpass.getpass('Enter Bright Data Collector ID: ')"
   ]
  },
  {
   "cell_type": "code",
   "execution_count": 26,
   "metadata": {},
   "outputs": [
    {
     "name": "stdout",
     "output_type": "stream",
     "text": [
      "b'{\"response_id\":\"z2798t1654551105893r9rkp9njelf8\"}'\n"
     ]
    }
   ],
   "source": [
    "data = {'url': 'https://twitter.com/elonmusk'}\n",
    "headers = {'Content-Type': 'application/json','Authorization': f'Bearer {brightdata_api}'}\n",
    "r = requests.post(f'https://api.brightdata.com/dca/trigger_immediate?collector={brightdata_collector}', data=json.dumps(data), headers=headers)\n",
    "print(r.content)"
   ]
  },
  {
   "cell_type": "code",
   "execution_count": 27,
   "metadata": {},
   "outputs": [
    {
     "data": {
      "text/plain": [
       "'z2798t1654551105893r9rkp9njelf8'"
      ]
     },
     "execution_count": 27,
     "metadata": {},
     "output_type": "execute_result"
    }
   ],
   "source": [
    "response_id = json.loads(r.content)['response_id']\n",
    "response_id"
   ]
  },
  {
   "cell_type": "markdown",
   "metadata": {},
   "source": [
    "`response_id` now stores Data Collection Task ID. We need to wait for collector to scrape data"
   ]
  },
  {
   "cell_type": "code",
   "execution_count": 28,
   "metadata": {},
   "outputs": [
    {
     "name": "stdout",
     "output_type": "stream",
     "text": [
      "{'input': {'url': 'https://twitter.com/elonmusk'}, 'lines': [{'posts': 18309, 'profile_background_image_url': 'https://pbs.twimg.com/profile_banners/44196397/1576183471', 'profile_image_url': 'https://pbs.twimg.com/profile_images/1529956155937759233/Nyn1HZWF_normal.jpg', 'profile_name': 'Elon Musk', 'profile_url': 'https://twitter.com/elonmusk', 'isVerified': True, 'bio': '', 'following': 114, 'followers': 96846282, 'scrape_time': '2022-06-06T21:32:27.088Z', 'posts_info': [{'text': 'What resolution is life in, 8k? – SJM', 'time': 'Mon Jun 06 17:05:47 +0000 2022', 'id': '1533857698575310848', 'replies': 8626, 'retweets': 3490, 'likes': 57603}, {'text': 'If chess was released as a video game https://t.co/8SuK8Mg7yT', 'time': 'Mon Jun 06 01:17:17 +0000 2022', 'id': '1533619000986554368', 'media_url': 'https://pbs.twimg.com/media/FUiCU3CX0AAw1BX.jpg', 'replies': 8882, 'retweets': 16170, 'likes': 226709}, {'text': 'The acid test for any two competing socioeconomic systems is which side needs to build a wall to keep people from escaping? That’s the bad one!', 'time': 'Mon Jun 06 01:06:53 +0000 2022', 'id': '1533616384747442176', 'replies': 7886, 'retweets': 16496, 'likes': 144093}, {'text': 'Realized what I have in common with environmentalists, but also why they’re so annoyingly wrong: \\n\\nThey are conservationists of what is, whereas they should be conservationists of our potential over time, our cosmic endowment.\\n\\n(From a friend)', 'time': 'Mon Jun 06 00:25:51 +0000 2022', 'id': '1533606056756137985', 'replies': 7168, 'retweets': 5289, 'likes': 65182}, {'text': 'From Shakespeare’s The Tempest, but I much prefer it literally vs ironically', 'time': 'Mon Jun 06 00:15:25 +0000 2022', 'id': '1533603431373578241', 'replies': 1968, 'retweets': 2083, 'likes': 37949}, {'text': \"O wonder!\\nHow many goodly creatures are there here!\\nHow beauteous mankind is! O brave new world,\\nThat has such people in't.\", 'time': 'Mon Jun 06 00:14:14 +0000 2022', 'id': '1533603131606671361', 'replies': 4179, 'retweets': 5287, 'likes': 69966}, {'text': 'RT @Tesla: HEPA air filter in Model Y, S and X removes &gt;99.97% of dust, pollen, mold, bacteria\\xa0and any airborne particles https://t.co/I8yC…', 'time': 'Sun Jun 05 19:06:57 +0000 2022', 'id': '1533525801764798470', 'replies': 0, 'retweets': 3287, 'likes': 0}, {'text': 'Some hate humanity, but I love humanity so much', 'time': 'Sun Jun 05 11:39:30 +0000 2022', 'id': '1533413197629296640', 'replies': 35987, 'retweets': 30387, 'likes': 376653}, {'text': 'Making life multiplanetary expands the scope &amp; scale of consciousness. \\n\\nIt also enables us to backup the biosphere, protecting all life as we know it from a calamity on Earth.\\n\\nHumanity is life’s steward, as no other species can transport life to Mars. We can’t let them down.', 'time': 'Sun Jun 05 11:29:45 +0000 2022', 'id': '1533410745429413888', 'replies': 12875, 'retweets': 11552, 'likes': 117877}, {'text': 'Deck from SpaceX all-hands update talk I gave last week https://t.co/ApsdPjjukh', 'time': 'Sun Jun 05 11:20:06 +0000 2022', 'id': '1533408313894912001', 'media_url': 'https://pbs.twimg.com/ext_tw_video_thumb/1533408248304480257/pu/img/VJ3qDcI1NLGQOtHz.jpg', 'replies': 2388, 'retweets': 5427, 'likes': 50115, 'views': 2281180}, {'text': 'Also, FSD Beta 10.12.2 now expanding to 100k cars. \\n\\n10.13 smooths out intersection control, especially long lefts, and starts to handle roads with no map data at all. \\n\\nLast point is a big deal. Within a few months, FSD should be able to drive to a GPS point with zero map data.', 'time': 'Sat Jun 04 20:12:39 +0000 2022', 'id': '1533179948743151616', 'replies': 2087, 'retweets': 2320, 'likes': 31455}, {'text': 'Working on Tesla North American service. \\n\\nGoal is 2/3 of cars receive same-day service, no wait.', 'time': 'Sat Jun 04 20:05:13 +0000 2022', 'id': '1533178078683357189', 'replies': 5952, 'retweets': 4883, 'likes': 80189}, {'text': 'Sometimes I think my list of enemies is too short, so …', 'time': 'Sat Jun 04 19:47:10 +0000 2022', 'id': '1533173533966221312', 'replies': 7089, 'retweets': 9831, 'likes': 161658}, {'text': 'Only thing more remarkable than DOJ not leaking the list is that no one in the media cares. Doesn’t that seem odd? https://t.co/JEK4TErABB', 'time': 'Sat Jun 04 18:57:49 +0000 2022', 'id': '1533161114586042369', 'media_url': 'https://pbs.twimg.com/media/FUbh6D1XEAEKkUc.jpg', 'replies': 17677, 'retweets': 71464, 'likes': 415850}, {'text': 'Four Falcon Heavy flights later this year by an incredible team at SpaceX https://t.co/WUQ72lKZPe', 'time': 'Sat Jun 04 17:03:50 +0000 2022', 'id': '1533132430386896896', 'replies': 2655, 'retweets': 3835, 'likes': 42354}, {'text': 'Getty watermark is the coup de grâce https://t.co/c4SHu4zXrU', 'time': 'Sat Jun 04 04:04:22 +0000 2022', 'id': '1532936274050486272', 'media_url': 'https://pbs.twimg.com/media/FUYVaZLXoAMiUXN.jpg', 'replies': 3627, 'retweets': 4658, 'likes': 68170}, {'text': 'Diabolical! https://t.co/AJAJR8Nf3z', 'time': 'Sat Jun 04 03:52:11 +0000 2022', 'id': '1532933207276019712', 'media_url': 'https://pbs.twimg.com/media/FUYSoBYWUAEsUxh.jpg', 'replies': 10019, 'retweets': 22084, 'likes': 242499}, {'text': 'https://t.co/QKEyQkErh0', 'time': 'Sat Jun 04 02:07:33 +0000 2022', 'id': '1532906874386976769', 'media_url': 'https://pbs.twimg.com/media/FUX6pDOXEAINQF8.jpg', 'replies': 4582, 'retweets': 11000, 'likes': 169622}, {'text': 'Johnny Rotten of The Sex Pistols https://t.co/u8v8KFUn7N', 'time': 'Sat Jun 04 01:39:07 +0000 2022', 'id': '1532899718401073152', 'media_url': 'https://pbs.twimg.com/media/FUX0Ku6WUAA7k7W.jpg', 'replies': 12786, 'retweets': 35935, 'likes': 206430}, {'text': 'It is rare for me to endorse political candidates. \\n\\nMy political leanings are moderate, so neither fully Republican nor Democrat, which I am confident is the case for most Americans.\\n\\nExecutive competence is super underrated in politics – we should care about that a lot more!', 'time': 'Fri Jun 03 13:25:13 +0000 2022', 'id': '1532715028742385668', 'replies': 8853, 'retweets': 7902, 'likes': 96398}, {'text': 'Los Angeles is fortunate to have someone like Rick Caruso running for mayor. He’s awesome.', 'time': 'Fri Jun 03 13:08:57 +0000 2022', 'id': '1532710931590959104', 'replies': 7091, 'retweets': 7923, 'likes': 110273}, {'text': 'Tesla AI Day pushed to Sept 30, as we may have an Optimus prototype working by then', 'time': 'Fri Jun 03 00:52:57 +0000 2022', 'id': '1532525711763841043', 'replies': 8576, 'retweets': 9214, 'likes': 128128}, {'text': 'RT @Tesla: Tesla navigation will now take predicted crosswind, headwind, humidity &amp;\\xa0temperature into account for calculating battery % on a…', 'time': 'Wed Jun 01 17:24:17 +0000 2022', 'id': '1532050413708517376', 'replies': 0, 'retweets': 4157, 'likes': 0}, {'text': 'RT @SpaceX: Two years ago yesterday, SpaceX launched its first human spaceflight to the @space_station', 'time': 'Wed Jun 01 17:23:57 +0000 2022', 'id': '1532050332158676992', 'replies': 0, 'retweets': 2886, 'likes': 0, 'quoted_id': '1531317155421200384', 'is_quoted': True}, {'text': 'We are trying to accelerate sustainable energy, so what matters is how much someone can contribute to that goal. \\n\\nPersonal choices are your own and are respected.', 'time': 'Wed Jun 01 16:05:22 +0000 2022', 'id': '1532030554778087424', 'replies': 6276, 'retweets': 4348, 'likes': 67702}, {'text': 'Tesla scores 100/100 for 7th year in a row for LGBTQ equality\\n https://t.co/9wvCbgrtUE', 'time': 'Wed Jun 01 15:58:28 +0000 2022', 'id': '1532028817157591041', 'replies': 8159, 'retweets': 4850, 'likes': 64069}, {'text': '10 years since SpaceX’s first mission to @Space_Station', 'time': 'Tue May 31 20:23:56 +0000 2022', 'id': '1531733235625074688', 'replies': 5747, 'retweets': 5692, 'likes': 64558, 'quoted_id': '1531693704322248704', 'is_quoted': True}, {'text': 'https://t.co/G83vCrHHJf', 'time': 'Tue May 31 14:44:38 +0000 2022', 'id': '1531647849599057921', 'media_url': 'https://pbs.twimg.com/media/FUGBmevWYAM-V_M.jpg', 'replies': 46657, 'retweets': 145535, 'likes': 1424644}, {'text': 'Literally … https://t.co/DWKI71Wk9Z', 'time': 'Tue May 31 02:50:47 +0000 2022', 'id': '1531468200847736838', 'media_url': 'https://pbs.twimg.com/media/FUDeNQBWYAEuFyB.jpg', 'replies': 13732, 'retweets': 46345, 'likes': 472884}, {'text': 'Tesla Plaid S cruising around Austin with volume at 11 is sublime', 'time': 'Mon May 30 19:10:36 +0000 2022', 'id': '1531352393673318401', 'replies': 7302, 'retweets': 4362, 'likes': 94459}, {'text': 'Veridis Quo', 'time': 'Mon May 30 19:09:41 +0000 2022', 'id': '1531352163691204610', 'replies': 6061, 'retweets': 4432, 'likes': 69702}, {'text': 'I miss them https://t.co/nTZkFM1D3k', 'time': 'Mon May 30 18:21:04 +0000 2022', 'id': '1531339927430090752', 'media_url': 'https://pbs.twimg.com/media/FUBpi3sWIAIPvTa.jpg', 'replies': 13166, 'retweets': 33237, 'likes': 510202}, {'text': '👀 https://t.co/F4B6ms5JiD', 'time': 'Mon May 30 17:10:36 +0000 2022', 'id': '1531322193010954240', 'media_url': 'https://pbs.twimg.com/media/FUBZar6WAAUfl5m.jpg', 'replies': 17702, 'retweets': 25476, 'likes': 306388}, {'text': 'In remembrance of those who fell to preserve the light of freedom', 'time': 'Mon May 30 14:20:04 +0000 2022', 'id': '1531279278624612352', 'replies': 11191, 'retweets': 37330, 'likes': 398576}, {'text': 'https://t.co/zi2LE83iM1', 'time': 'Mon May 30 07:23:15 +0000 2022', 'id': '1531174382260961280', 'media_url': 'https://pbs.twimg.com/media/FT_S78_X0AAULCx.jpg', 'replies': 7654, 'retweets': 14883, 'likes': 232286}, {'text': 'And remember that happiness is a choice', 'time': 'Sun May 29 23:33:00 +0000 2022', 'id': '1531056042494377985', 'replies': 9632, 'retweets': 21298, 'likes': 238283}, {'text': 'Tomorrow will be the first sunrise of the rest of ur life – make it what u want', 'time': 'Sun May 29 23:24:09 +0000 2022', 'id': '1531053815042134016', 'replies': 18920, 'retweets': 46450, 'likes': 433943}, {'text': 'When thinking about deep time, what is more astounding is to think about how much time is ahead!', 'time': 'Sun May 29 22:24:33 +0000 2022', 'id': '1531038815363670017', 'replies': 9202, 'retweets': 9142, 'likes': 120689}]}]}\n",
      "{'input': {'url': 'https://twitter.com/elonmusk'}, 'lines': [{'posts': 18309, 'profile_background_image_url': 'https://pbs.twimg.com/profile_banners/44196397/1576183471', 'profile_image_url': 'https://pbs.twimg.com/profile_images/1529956155937759233/Nyn1HZWF_normal.jpg', 'profile_name': 'Elon Musk', 'profile_url': 'https://twitter.com/elonmusk', 'isVerified': True, 'bio': '', 'following': 114, 'followers': 96846282, 'scrape_time': '2022-06-06T21:32:27.088Z', 'posts_info': [{'text': 'What resolution is life in, 8k? – SJM', 'time': 'Mon Jun 06 17:05:47 +0000 2022', 'id': '1533857698575310848', 'replies': 8626, 'retweets': 3490, 'likes': 57603}, {'text': 'If chess was released as a video game https://t.co/8SuK8Mg7yT', 'time': 'Mon Jun 06 01:17:17 +0000 2022', 'id': '1533619000986554368', 'media_url': 'https://pbs.twimg.com/media/FUiCU3CX0AAw1BX.jpg', 'replies': 8882, 'retweets': 16170, 'likes': 226709}, {'text': 'The acid test for any two competing socioeconomic systems is which side needs to build a wall to keep people from escaping? That’s the bad one!', 'time': 'Mon Jun 06 01:06:53 +0000 2022', 'id': '1533616384747442176', 'replies': 7886, 'retweets': 16496, 'likes': 144093}, {'text': 'Realized what I have in common with environmentalists, but also why they’re so annoyingly wrong: \\n\\nThey are conservationists of what is, whereas they should be conservationists of our potential over time, our cosmic endowment.\\n\\n(From a friend)', 'time': 'Mon Jun 06 00:25:51 +0000 2022', 'id': '1533606056756137985', 'replies': 7168, 'retweets': 5289, 'likes': 65182}, {'text': 'From Shakespeare’s The Tempest, but I much prefer it literally vs ironically', 'time': 'Mon Jun 06 00:15:25 +0000 2022', 'id': '1533603431373578241', 'replies': 1968, 'retweets': 2083, 'likes': 37949}, {'text': \"O wonder!\\nHow many goodly creatures are there here!\\nHow beauteous mankind is! O brave new world,\\nThat has such people in't.\", 'time': 'Mon Jun 06 00:14:14 +0000 2022', 'id': '1533603131606671361', 'replies': 4179, 'retweets': 5287, 'likes': 69966}, {'text': 'RT @Tesla: HEPA air filter in Model Y, S and X removes &gt;99.97% of dust, pollen, mold, bacteria\\xa0and any airborne particles https://t.co/I8yC…', 'time': 'Sun Jun 05 19:06:57 +0000 2022', 'id': '1533525801764798470', 'replies': 0, 'retweets': 3287, 'likes': 0}, {'text': 'Some hate humanity, but I love humanity so much', 'time': 'Sun Jun 05 11:39:30 +0000 2022', 'id': '1533413197629296640', 'replies': 35987, 'retweets': 30387, 'likes': 376653}, {'text': 'Making life multiplanetary expands the scope &amp; scale of consciousness. \\n\\nIt also enables us to backup the biosphere, protecting all life as we know it from a calamity on Earth.\\n\\nHumanity is life’s steward, as no other species can transport life to Mars. We can’t let them down.', 'time': 'Sun Jun 05 11:29:45 +0000 2022', 'id': '1533410745429413888', 'replies': 12875, 'retweets': 11552, 'likes': 117877}, {'text': 'Deck from SpaceX all-hands update talk I gave last week https://t.co/ApsdPjjukh', 'time': 'Sun Jun 05 11:20:06 +0000 2022', 'id': '1533408313894912001', 'media_url': 'https://pbs.twimg.com/ext_tw_video_thumb/1533408248304480257/pu/img/VJ3qDcI1NLGQOtHz.jpg', 'replies': 2388, 'retweets': 5427, 'likes': 50115, 'views': 2281180}, {'text': 'Also, FSD Beta 10.12.2 now expanding to 100k cars. \\n\\n10.13 smooths out intersection control, especially long lefts, and starts to handle roads with no map data at all. \\n\\nLast point is a big deal. Within a few months, FSD should be able to drive to a GPS point with zero map data.', 'time': 'Sat Jun 04 20:12:39 +0000 2022', 'id': '1533179948743151616', 'replies': 2087, 'retweets': 2320, 'likes': 31455}, {'text': 'Working on Tesla North American service. \\n\\nGoal is 2/3 of cars receive same-day service, no wait.', 'time': 'Sat Jun 04 20:05:13 +0000 2022', 'id': '1533178078683357189', 'replies': 5952, 'retweets': 4883, 'likes': 80189}, {'text': 'Sometimes I think my list of enemies is too short, so …', 'time': 'Sat Jun 04 19:47:10 +0000 2022', 'id': '1533173533966221312', 'replies': 7089, 'retweets': 9831, 'likes': 161658}, {'text': 'Only thing more remarkable than DOJ not leaking the list is that no one in the media cares. Doesn’t that seem odd? https://t.co/JEK4TErABB', 'time': 'Sat Jun 04 18:57:49 +0000 2022', 'id': '1533161114586042369', 'media_url': 'https://pbs.twimg.com/media/FUbh6D1XEAEKkUc.jpg', 'replies': 17677, 'retweets': 71464, 'likes': 415850}, {'text': 'Four Falcon Heavy flights later this year by an incredible team at SpaceX https://t.co/WUQ72lKZPe', 'time': 'Sat Jun 04 17:03:50 +0000 2022', 'id': '1533132430386896896', 'replies': 2655, 'retweets': 3835, 'likes': 42354}, {'text': 'Getty watermark is the coup de grâce https://t.co/c4SHu4zXrU', 'time': 'Sat Jun 04 04:04:22 +0000 2022', 'id': '1532936274050486272', 'media_url': 'https://pbs.twimg.com/media/FUYVaZLXoAMiUXN.jpg', 'replies': 3627, 'retweets': 4658, 'likes': 68170}, {'text': 'Diabolical! https://t.co/AJAJR8Nf3z', 'time': 'Sat Jun 04 03:52:11 +0000 2022', 'id': '1532933207276019712', 'media_url': 'https://pbs.twimg.com/media/FUYSoBYWUAEsUxh.jpg', 'replies': 10019, 'retweets': 22084, 'likes': 242499}, {'text': 'https://t.co/QKEyQkErh0', 'time': 'Sat Jun 04 02:07:33 +0000 2022', 'id': '1532906874386976769', 'media_url': 'https://pbs.twimg.com/media/FUX6pDOXEAINQF8.jpg', 'replies': 4582, 'retweets': 11000, 'likes': 169622}, {'text': 'Johnny Rotten of The Sex Pistols https://t.co/u8v8KFUn7N', 'time': 'Sat Jun 04 01:39:07 +0000 2022', 'id': '1532899718401073152', 'media_url': 'https://pbs.twimg.com/media/FUX0Ku6WUAA7k7W.jpg', 'replies': 12786, 'retweets': 35935, 'likes': 206430}, {'text': 'It is rare for me to endorse political candidates. \\n\\nMy political leanings are moderate, so neither fully Republican nor Democrat, which I am confident is the case for most Americans.\\n\\nExecutive competence is super underrated in politics – we should care about that a lot more!', 'time': 'Fri Jun 03 13:25:13 +0000 2022', 'id': '1532715028742385668', 'replies': 8853, 'retweets': 7902, 'likes': 96398}, {'text': 'Los Angeles is fortunate to have someone like Rick Caruso running for mayor. He’s awesome.', 'time': 'Fri Jun 03 13:08:57 +0000 2022', 'id': '1532710931590959104', 'replies': 7091, 'retweets': 7923, 'likes': 110273}, {'text': 'Tesla AI Day pushed to Sept 30, as we may have an Optimus prototype working by then', 'time': 'Fri Jun 03 00:52:57 +0000 2022', 'id': '1532525711763841043', 'replies': 8576, 'retweets': 9214, 'likes': 128128}, {'text': 'RT @Tesla: Tesla navigation will now take predicted crosswind, headwind, humidity &amp;\\xa0temperature into account for calculating battery % on a…', 'time': 'Wed Jun 01 17:24:17 +0000 2022', 'id': '1532050413708517376', 'replies': 0, 'retweets': 4157, 'likes': 0}, {'text': 'RT @SpaceX: Two years ago yesterday, SpaceX launched its first human spaceflight to the @space_station', 'time': 'Wed Jun 01 17:23:57 +0000 2022', 'id': '1532050332158676992', 'replies': 0, 'retweets': 2886, 'likes': 0, 'quoted_id': '1531317155421200384', 'is_quoted': True}, {'text': 'We are trying to accelerate sustainable energy, so what matters is how much someone can contribute to that goal. \\n\\nPersonal choices are your own and are respected.', 'time': 'Wed Jun 01 16:05:22 +0000 2022', 'id': '1532030554778087424', 'replies': 6276, 'retweets': 4348, 'likes': 67702}, {'text': 'Tesla scores 100/100 for 7th year in a row for LGBTQ equality\\n https://t.co/9wvCbgrtUE', 'time': 'Wed Jun 01 15:58:28 +0000 2022', 'id': '1532028817157591041', 'replies': 8159, 'retweets': 4850, 'likes': 64069}, {'text': '10 years since SpaceX’s first mission to @Space_Station', 'time': 'Tue May 31 20:23:56 +0000 2022', 'id': '1531733235625074688', 'replies': 5747, 'retweets': 5692, 'likes': 64558, 'quoted_id': '1531693704322248704', 'is_quoted': True}, {'text': 'https://t.co/G83vCrHHJf', 'time': 'Tue May 31 14:44:38 +0000 2022', 'id': '1531647849599057921', 'media_url': 'https://pbs.twimg.com/media/FUGBmevWYAM-V_M.jpg', 'replies': 46657, 'retweets': 145535, 'likes': 1424644}, {'text': 'Literally … https://t.co/DWKI71Wk9Z', 'time': 'Tue May 31 02:50:47 +0000 2022', 'id': '1531468200847736838', 'media_url': 'https://pbs.twimg.com/media/FUDeNQBWYAEuFyB.jpg', 'replies': 13732, 'retweets': 46345, 'likes': 472884}, {'text': 'Tesla Plaid S cruising around Austin with volume at 11 is sublime', 'time': 'Mon May 30 19:10:36 +0000 2022', 'id': '1531352393673318401', 'replies': 7302, 'retweets': 4362, 'likes': 94459}, {'text': 'Veridis Quo', 'time': 'Mon May 30 19:09:41 +0000 2022', 'id': '1531352163691204610', 'replies': 6061, 'retweets': 4432, 'likes': 69702}, {'text': 'I miss them https://t.co/nTZkFM1D3k', 'time': 'Mon May 30 18:21:04 +0000 2022', 'id': '1531339927430090752', 'media_url': 'https://pbs.twimg.com/media/FUBpi3sWIAIPvTa.jpg', 'replies': 13166, 'retweets': 33237, 'likes': 510202}, {'text': '👀 https://t.co/F4B6ms5JiD', 'time': 'Mon May 30 17:10:36 +0000 2022', 'id': '1531322193010954240', 'media_url': 'https://pbs.twimg.com/media/FUBZar6WAAUfl5m.jpg', 'replies': 17702, 'retweets': 25476, 'likes': 306388}, {'text': 'In remembrance of those who fell to preserve the light of freedom', 'time': 'Mon May 30 14:20:04 +0000 2022', 'id': '1531279278624612352', 'replies': 11191, 'retweets': 37330, 'likes': 398576}, {'text': 'https://t.co/zi2LE83iM1', 'time': 'Mon May 30 07:23:15 +0000 2022', 'id': '1531174382260961280', 'media_url': 'https://pbs.twimg.com/media/FT_S78_X0AAULCx.jpg', 'replies': 7654, 'retweets': 14883, 'likes': 232286}, {'text': 'And remember that happiness is a choice', 'time': 'Sun May 29 23:33:00 +0000 2022', 'id': '1531056042494377985', 'replies': 9632, 'retweets': 21298, 'likes': 238283}, {'text': 'Tomorrow will be the first sunrise of the rest of ur life – make it what u want', 'time': 'Sun May 29 23:24:09 +0000 2022', 'id': '1531053815042134016', 'replies': 18920, 'retweets': 46450, 'likes': 433943}, {'text': 'When thinking about deep time, what is more astounding is to think about how much time is ahead!', 'time': 'Sun May 29 22:24:33 +0000 2022', 'id': '1531038815363670017', 'replies': 9202, 'retweets': 9142, 'likes': 120689}]}]}\n"
     ]
    }
   ],
   "source": [
    "collection_result = json.loads(r.content)\n",
    "while 'response_id' in collection_result or 'pending' in collection_result:\n",
    "    time.sleep(60)\n",
    "    r = requests.get(f'https://api.brightdata.com/dca/get_result?response_id={response_id}', headers=headers)\n",
    "    collection_result = json.loads(r.content)\n",
    "    print(collection_result)\n",
    "    \n",
    "print(collection_result)"
   ]
  },
  {
   "cell_type": "markdown",
   "metadata": {},
   "source": [
    "After recieving data, we prepare it for uploading to Toloka pool."
   ]
  },
  {
   "cell_type": "code",
   "execution_count": 29,
   "metadata": {},
   "outputs": [
    {
     "data": {
      "text/html": [
       "<div>\n",
       "<style scoped>\n",
       "    .dataframe tbody tr th:only-of-type {\n",
       "        vertical-align: middle;\n",
       "    }\n",
       "\n",
       "    .dataframe tbody tr th {\n",
       "        vertical-align: top;\n",
       "    }\n",
       "\n",
       "    .dataframe thead th {\n",
       "        text-align: right;\n",
       "    }\n",
       "</style>\n",
       "<table border=\"1\" class=\"dataframe\">\n",
       "  <thead>\n",
       "    <tr style=\"text-align: right;\">\n",
       "      <th></th>\n",
       "      <th>text</th>\n",
       "      <th>time</th>\n",
       "      <th>id</th>\n",
       "      <th>replies</th>\n",
       "      <th>retweets</th>\n",
       "      <th>likes</th>\n",
       "      <th>media_url</th>\n",
       "      <th>views</th>\n",
       "      <th>quoted_id</th>\n",
       "      <th>is_quoted</th>\n",
       "    </tr>\n",
       "  </thead>\n",
       "  <tbody>\n",
       "    <tr>\n",
       "      <th>0</th>\n",
       "      <td>What resolution is life in, 8k? – SJM</td>\n",
       "      <td>Mon Jun 06 17:05:47 +0000 2022</td>\n",
       "      <td>1533857698575310848</td>\n",
       "      <td>8626</td>\n",
       "      <td>3490</td>\n",
       "      <td>57603</td>\n",
       "      <td>NaN</td>\n",
       "      <td>NaN</td>\n",
       "      <td>NaN</td>\n",
       "      <td>NaN</td>\n",
       "    </tr>\n",
       "    <tr>\n",
       "      <th>1</th>\n",
       "      <td>If chess was released as a video game</td>\n",
       "      <td>Mon Jun 06 01:17:17 +0000 2022</td>\n",
       "      <td>1533619000986554368</td>\n",
       "      <td>8882</td>\n",
       "      <td>16170</td>\n",
       "      <td>226709</td>\n",
       "      <td>https://pbs.twimg.com/media/FUiCU3CX0AAw1BX.jpg</td>\n",
       "      <td>NaN</td>\n",
       "      <td>NaN</td>\n",
       "      <td>NaN</td>\n",
       "    </tr>\n",
       "    <tr>\n",
       "      <th>2</th>\n",
       "      <td>The acid test for any two competing socioeconomic systems is which side needs to build a wall to keep people from escaping? That’s the bad one!</td>\n",
       "      <td>Mon Jun 06 01:06:53 +0000 2022</td>\n",
       "      <td>1533616384747442176</td>\n",
       "      <td>7886</td>\n",
       "      <td>16496</td>\n",
       "      <td>144093</td>\n",
       "      <td>NaN</td>\n",
       "      <td>NaN</td>\n",
       "      <td>NaN</td>\n",
       "      <td>NaN</td>\n",
       "    </tr>\n",
       "    <tr>\n",
       "      <th>3</th>\n",
       "      <td>Realized what I have in common with environmentalists, but also why they’re so annoyingly wrong: They are conservationists of what is, whereas they should be conservationists of our potential over time, our cosmic endowment.(From a friend)</td>\n",
       "      <td>Mon Jun 06 00:25:51 +0000 2022</td>\n",
       "      <td>1533606056756137985</td>\n",
       "      <td>7168</td>\n",
       "      <td>5289</td>\n",
       "      <td>65182</td>\n",
       "      <td>NaN</td>\n",
       "      <td>NaN</td>\n",
       "      <td>NaN</td>\n",
       "      <td>NaN</td>\n",
       "    </tr>\n",
       "    <tr>\n",
       "      <th>4</th>\n",
       "      <td>From Shakespeare’s The Tempest, but I much prefer it literally vs ironically</td>\n",
       "      <td>Mon Jun 06 00:15:25 +0000 2022</td>\n",
       "      <td>1533603431373578241</td>\n",
       "      <td>1968</td>\n",
       "      <td>2083</td>\n",
       "      <td>37949</td>\n",
       "      <td>NaN</td>\n",
       "      <td>NaN</td>\n",
       "      <td>NaN</td>\n",
       "      <td>NaN</td>\n",
       "    </tr>\n",
       "  </tbody>\n",
       "</table>\n",
       "</div>"
      ],
      "text/plain": [
       "                                                                                                                                                                                                                                              text  \\\n",
       "0                                                                                                                                                                                                            What resolution is life in, 8k? – SJM   \n",
       "1                                                                                                                                                                                                            If chess was released as a video game   \n",
       "2                                                                                                  The acid test for any two competing socioeconomic systems is which side needs to build a wall to keep people from escaping? That’s the bad one!   \n",
       "3  Realized what I have in common with environmentalists, but also why they’re so annoyingly wrong: They are conservationists of what is, whereas they should be conservationists of our potential over time, our cosmic endowment.(From a friend)   \n",
       "4                                                                                                                                                                     From Shakespeare’s The Tempest, but I much prefer it literally vs ironically   \n",
       "\n",
       "                             time                   id  replies  retweets  \\\n",
       "0  Mon Jun 06 17:05:47 +0000 2022  1533857698575310848     8626      3490   \n",
       "1  Mon Jun 06 01:17:17 +0000 2022  1533619000986554368     8882     16170   \n",
       "2  Mon Jun 06 01:06:53 +0000 2022  1533616384747442176     7886     16496   \n",
       "3  Mon Jun 06 00:25:51 +0000 2022  1533606056756137985     7168      5289   \n",
       "4  Mon Jun 06 00:15:25 +0000 2022  1533603431373578241     1968      2083   \n",
       "\n",
       "    likes                                        media_url  views quoted_id  \\\n",
       "0   57603                                              NaN    NaN       NaN   \n",
       "1  226709  https://pbs.twimg.com/media/FUiCU3CX0AAw1BX.jpg    NaN       NaN   \n",
       "2  144093                                              NaN    NaN       NaN   \n",
       "3   65182                                              NaN    NaN       NaN   \n",
       "4   37949                                              NaN    NaN       NaN   \n",
       "\n",
       "  is_quoted  \n",
       "0       NaN  \n",
       "1       NaN  \n",
       "2       NaN  \n",
       "3       NaN  \n",
       "4       NaN  "
      ]
     },
     "execution_count": 29,
     "metadata": {},
     "output_type": "execute_result"
    }
   ],
   "source": [
    "task_dataset = pd.DataFrame.from_dict(collection_result ['lines'][-1]['posts_info'])\n",
    "task_dataset['text'] = task_dataset[\"text\"].str.replace(r'\\s*https?://\\S+(\\s+|$)', '').str.replace('\\n','').str.strip()\n",
    "task_dataset['text'].replace('', np.nan, inplace=True)\n",
    "task_dataset.dropna(subset=['text'], inplace=True)\n",
    "task_dataset.head()"
   ]
  },
  {
   "cell_type": "markdown",
   "metadata": {},
   "source": [
    "## Prepare and upload tasks"
   ]
  },
  {
   "cell_type": "markdown",
   "metadata": {},
   "source": [
    "We start preparing tasks with Contol tasks, which also called Golden tasks. Control tasks are tasks that already contain the correct response. They are used for checking the quality of responses from performers. The performer's response is compared to the response you provided. If they match, it means the performer answered correctly.\n",
    "\n",
    "<b>Tip.</b> Make sure to include different variations of correct responses in equal amounts.\n",
    "\n",
    "We will use [Twitter Tweets Sentiment Dataset](https://www.kaggle.com/datasets/yasserh/twitter-tweets-sentiment-dataset) datasets from Kaggle as Golden tasks under Creative Commons Public Domain 1.0 International license\n",
    "\n",
    "\n",
    "[![CC BY-NC-SA 4.0](https://img.shields.io/badge/License-CC0%20%201.0-lightgrey.svg)](https://creativecommons.org/publicdomain/zero/1.0/)."
   ]
  },
  {
   "cell_type": "code",
   "execution_count": 30,
   "metadata": {},
   "outputs": [
    {
     "data": {
      "text/html": [
       "<div>\n",
       "<style scoped>\n",
       "    .dataframe tbody tr th:only-of-type {\n",
       "        vertical-align: middle;\n",
       "    }\n",
       "\n",
       "    .dataframe tbody tr th {\n",
       "        vertical-align: top;\n",
       "    }\n",
       "\n",
       "    .dataframe thead th {\n",
       "        text-align: right;\n",
       "    }\n",
       "</style>\n",
       "<table border=\"1\" class=\"dataframe\">\n",
       "  <thead>\n",
       "    <tr style=\"text-align: right;\">\n",
       "      <th></th>\n",
       "      <th>tweet</th>\n",
       "      <th>sentiment</th>\n",
       "    </tr>\n",
       "  </thead>\n",
       "  <tbody>\n",
       "    <tr>\n",
       "      <th>0</th>\n",
       "      <td>resistance was futile! Needed pretties to knit with</td>\n",
       "      <td>neg</td>\n",
       "    </tr>\n",
       "    <tr>\n",
       "      <th>1</th>\n",
       "      <td>FCKeditor is giving me problems! Posts just fine, but only edits in plain text! Help!</td>\n",
       "      <td>neg</td>\n",
       "    </tr>\n",
       "    <tr>\n",
       "      <th>2</th>\n",
       "      <td>please check out www.mysweetebony.com and lmk what you think  ... my first paysite ... post up your site too!</td>\n",
       "      <td>neu</td>\n",
       "    </tr>\n",
       "    <tr>\n",
       "      <th>3</th>\n",
       "      <td>so ur name is also Naina</td>\n",
       "      <td>neu</td>\n",
       "    </tr>\n",
       "    <tr>\n",
       "      <th>4</th>\n",
       "      <td>kenny u alive!!!...I`m here getting da hair done..to bad I`m not chillin w/ u todat  kinda sad</td>\n",
       "      <td>neg</td>\n",
       "    </tr>\n",
       "  </tbody>\n",
       "</table>\n",
       "</div>"
      ],
      "text/plain": [
       "                                                                                                           tweet  \\\n",
       "0                                                            resistance was futile! Needed pretties to knit with   \n",
       "1                          FCKeditor is giving me problems! Posts just fine, but only edits in plain text! Help!   \n",
       "2  please check out www.mysweetebony.com and lmk what you think  ... my first paysite ... post up your site too!   \n",
       "3                                                                                       so ur name is also Naina   \n",
       "4                 kenny u alive!!!...I`m here getting da hair done..to bad I`m not chillin w/ u todat  kinda sad   \n",
       "\n",
       "  sentiment  \n",
       "0       neg  \n",
       "1       neg  \n",
       "2       neu  \n",
       "3       neu  \n",
       "4       neg  "
      ]
     },
     "execution_count": 30,
     "metadata": {},
     "output_type": "execute_result"
    }
   ],
   "source": [
    "golden_dataset = pd.read_csv('tweets_golden_set.csv').sample(frac=1).reset_index(drop=True)\n",
    "golden_dataset.head()"
   ]
  },
  {
   "cell_type": "code",
   "execution_count": 31,
   "metadata": {},
   "outputs": [],
   "source": [
    "golden_amount = int (len(task_dataset)* 3 / 7) + 3\n",
    "\n",
    "positive_golden_dataset = golden_dataset[golden_dataset.sentiment == 'pos'].sample(golden_amount // 3)\n",
    "neutral_golden_dataset = golden_dataset[golden_dataset.sentiment == 'neu'].sample(golden_amount // 3)\n",
    "negative_golden_dataset = golden_dataset[golden_dataset.sentiment == 'neg'].sample(golden_amount // 3)\n",
    "\n",
    "new_golden_dataset = pd.concat([positive_golden_dataset, neutral_golden_dataset, negative_golden_dataset]).sample(frac=1)"
   ]
  },
  {
   "cell_type": "code",
   "execution_count": 32,
   "metadata": {},
   "outputs": [],
   "source": [
    "\n",
    "golden_tasks = [\n",
    "    toloka.Task(\n",
    "        pool_id=pool.id,\n",
    "        input_values={'tweet': row['tweet']},\n",
    "        known_solutions = [\n",
    "            toloka.task.BaseTask.KnownSolution(\n",
    "                output_values={'sentiment': row['sentiment']}\n",
    "            )\n",
    "        ],\n",
    "        infinite_overlap=True,\n",
    "    )\n",
    "    for _, row in new_golden_dataset.iterrows()\n",
    "]"
   ]
  },
  {
   "cell_type": "code",
   "execution_count": 33,
   "metadata": {
    "pycharm": {
     "name": "#%%\n"
    }
   },
   "outputs": [],
   "source": [
    "tasks = [\n",
    "    toloka.Task(\n",
    "        pool_id=pool.id,\n",
    "        input_values={'tweet': tweet},\n",
    "    )\n",
    "    for tweet in task_dataset['text']\n",
    "]"
   ]
  },
  {
   "cell_type": "markdown",
   "metadata": {},
   "source": [
    "Upload tasks"
   ]
  },
  {
   "cell_type": "code",
   "execution_count": 34,
   "metadata": {},
   "outputs": [
    {
     "name": "stdout",
     "output_type": "stream",
     "text": [
      "53\n"
     ]
    }
   ],
   "source": [
    "created_tasks = toloka_client.create_tasks(golden_tasks + tasks, allow_defaults=True)\n",
    "print(len(created_tasks.items))"
   ]
  },
  {
   "cell_type": "markdown",
   "metadata": {},
   "source": [
    "You can go to the pool preview page and in web-interface you can see something like this:\n",
    "<table  align=\"center\">\n",
    "  <tr><td>\n",
    "      <img src=\"./img/pool_preview_for_workers.png\"\n",
    "         alt=\"Pool interface\"  width=\"1000\">\n",
    "  </td></tr>\n",
    "  <tr><td align=\"center\">\n",
    "    <b>Figure 1.</b> What the pool interface might look like.\n",
    "  </td></tr>\n",
    "</table>"
   ]
  },
  {
   "cell_type": "markdown",
   "metadata": {},
   "source": [
    "Start the pool.\n",
    "\n",
    "<b>Note</b>: Remember that the tasks will be completed by actual Tolokers. Double check that everything is correct with your project configuration."
   ]
  },
  {
   "cell_type": "code",
   "execution_count": 35,
   "metadata": {},
   "outputs": [
    {
     "name": "stdout",
     "output_type": "stream",
     "text": [
      "training - Status.OPEN\n",
      "exam - Status.OPEN\n",
      "main pool - Status.OPEN\n"
     ]
    }
   ],
   "source": [
    "training = toloka_client.open_training(training.id)\n",
    "print(f'training - {training.status}')\n",
    "\n",
    "exam = toloka_client.open_pool(exam.id)\n",
    "print(f'exam - {exam.status}')\n",
    "\n",
    "pool = toloka_client.open_pool(pool.id)\n",
    "print(f'main pool - {pool.status}')"
   ]
  },
  {
   "cell_type": "markdown",
   "metadata": {},
   "source": [
    "## Receiving responses"
   ]
  },
  {
   "cell_type": "markdown",
   "metadata": {},
   "source": [
    "Wait until the pool is completed."
   ]
  },
  {
   "cell_type": "code",
   "execution_count": 36,
   "metadata": {},
   "outputs": [
    {
     "name": "stdout",
     "output_type": "stream",
     "text": [
      "   00:32:59\tPool 33804147 - 0%\n",
      "   00:34:02\tPool 33804147 - 13%\n",
      "   00:35:03\tPool 33804147 - 60%\n",
      "   00:36:05\tPool 33804147 - 80%\n",
      "   00:37:07\tPool 33804147 - 86%\n",
      "   00:38:09\tPool 33804147 - 93%\n",
      "   00:39:10\tPool 33804147 - 100%\n",
      "Pool was closed.\n",
      "exam - Status.CLOSED\n",
      "training - Status.CLOSED\n"
     ]
    }
   ],
   "source": [
    "pool_id = pool.id\n",
    "\n",
    "def wait_pool_for_close(pool_id, minutes_to_wait=1):\n",
    "    sleep_time = 60 * minutes_to_wait\n",
    "    pool = toloka_client.get_pool(pool_id)\n",
    "    while not pool.is_closed():\n",
    "        op = toloka_client.get_analytics([toloka.analytics_request.CompletionPercentagePoolAnalytics(subject_id=pool.id)])\n",
    "        op = toloka_client.wait_operation(op)\n",
    "        percentage = op.details['value'][0]['result']['value']\n",
    "        print(\n",
    "            f'   {datetime.datetime.now().strftime(\"%H:%M:%S\")}\\t'\n",
    "            f'Pool {pool.id} - {percentage}%'\n",
    "        )\n",
    "        time.sleep(sleep_time)\n",
    "        pool = toloka_client.get_pool(pool.id)\n",
    "    print('Pool was closed.')\n",
    "\n",
    "wait_pool_for_close(pool_id)\n",
    "\n",
    "exam = toloka_client.close_pool(exam.id)\n",
    "print(f'exam - {exam.status}')\n",
    "\n",
    "training = toloka_client.close_training(training.id)\n",
    "print(f'training - {training.status}')"
   ]
  },
  {
   "cell_type": "markdown",
   "metadata": {},
   "source": [
    "Get responses."
   ]
  },
  {
   "cell_type": "code",
   "execution_count": 37,
   "metadata": {},
   "outputs": [
    {
     "name": "stdout",
     "output_type": "stream",
     "text": [
      "[WARNING] toloka.client: Experimental method\n",
      "answers count: 105\n"
     ]
    }
   ],
   "source": [
    "answers_df = toloka_client.get_assignments_df(pool_id)\n",
    "\n",
    "# Drop golden tasks\n",
    "answers_df = answers_df[answers_df['GOLDEN:sentiment'].isna()]\n",
    "\n",
    "# Prepare DataFrame for aggregation\n",
    "answers_df = answers_df.rename(columns={\n",
    "    'INPUT:tweet': 'task',\n",
    "    'OUTPUT:sentiment': 'label',\n",
    "    'ASSIGNMENT:worker_id': 'worker'\n",
    "})\n",
    "\n",
    "print(f'answers count: {len(answers_df)}')"
   ]
  },
  {
   "cell_type": "markdown",
   "metadata": {},
   "source": [
    "Run aggregation using the [Dawid-Skene](https://toloka.ai/docs/guide/concepts/result-aggregation.html?utm_source=github&utm_medium=site&utm_campaign=tolokakit#aggr__dawid-skene) model.\n",
    "\n",
    "We use this aggregation model because our questions are of the same difficulty, and we don't have many control tasks.\n",
    "\n",
    "Read more about the Dawid-Skene model in the Requester’s Guide or get at an overview of different aggregation models in our Knowledge Base.\n"
   ]
  },
  {
   "cell_type": "code",
   "execution_count": 38,
   "metadata": {
    "pycharm": {
     "name": "#%%\n"
    }
   },
   "outputs": [],
   "source": [
    "# Run aggregation\n",
    "predicted_answers = DawidSkene(n_iter=20).fit_predict(answers_df)"
   ]
  },
  {
   "cell_type": "markdown",
   "metadata": {},
   "source": [
    "Look at the results."
   ]
  },
  {
   "cell_type": "code",
   "execution_count": 39,
   "metadata": {
    "pycharm": {
     "name": "#%%\n"
    }
   },
   "outputs": [
    {
     "data": {
      "text/html": [
       "<div>\n",
       "<style scoped>\n",
       "    .dataframe tbody tr th:only-of-type {\n",
       "        vertical-align: middle;\n",
       "    }\n",
       "\n",
       "    .dataframe tbody tr th {\n",
       "        vertical-align: top;\n",
       "    }\n",
       "\n",
       "    .dataframe thead th {\n",
       "        text-align: right;\n",
       "    }\n",
       "</style>\n",
       "<table border=\"1\" class=\"dataframe\">\n",
       "  <thead>\n",
       "    <tr style=\"text-align: right;\">\n",
       "      <th></th>\n",
       "      <th>tweets</th>\n",
       "      <th>sentiment</th>\n",
       "    </tr>\n",
       "  </thead>\n",
       "  <tbody>\n",
       "    <tr>\n",
       "      <th>15</th>\n",
       "      <td>It is rare for me to endorse political candidates. My political leanings are moderate, so neither fully Republican nor Democrat, which I am confident is the case for most Americans.Executive competence is super underrated in politics – we should care about that a lot more!</td>\n",
       "      <td>neu</td>\n",
       "    </tr>\n",
       "    <tr>\n",
       "      <th>17</th>\n",
       "      <td>When thinking about deep time, what is more astounding is to think about how much time is ahead!</td>\n",
       "      <td>pos</td>\n",
       "    </tr>\n",
       "    <tr>\n",
       "      <th>19</th>\n",
       "      <td>Realized what I have in common with environmentalists, but also why they’re so annoyingly wrong: They are conservationists of what is, whereas they should be conservationists of our potential over time, our cosmic endowment.(From a friend)</td>\n",
       "      <td>neg</td>\n",
       "    </tr>\n",
       "    <tr>\n",
       "      <th>34</th>\n",
       "      <td>10 years since SpaceX’s first mission to @Space_Station</td>\n",
       "      <td>neu</td>\n",
       "    </tr>\n",
       "    <tr>\n",
       "      <th>27</th>\n",
       "      <td>Tesla Plaid S cruising around Austin with volume at 11 is sublime</td>\n",
       "      <td>neu</td>\n",
       "    </tr>\n",
       "    <tr>\n",
       "      <th>3</th>\n",
       "      <td>Literally …</td>\n",
       "      <td>neu</td>\n",
       "    </tr>\n",
       "    <tr>\n",
       "      <th>1</th>\n",
       "      <td>RT @SpaceX: Two years ago yesterday, SpaceX launched its first human spaceflight to the @space_station</td>\n",
       "      <td>neu</td>\n",
       "    </tr>\n",
       "    <tr>\n",
       "      <th>6</th>\n",
       "      <td>What resolution is life in, 8k? – SJM</td>\n",
       "      <td>neu</td>\n",
       "    </tr>\n",
       "    <tr>\n",
       "      <th>11</th>\n",
       "      <td>Tomorrow will be the first sunrise of the rest of ur life – make it what u want</td>\n",
       "      <td>pos</td>\n",
       "    </tr>\n",
       "    <tr>\n",
       "      <th>28</th>\n",
       "      <td>RT @Tesla: Tesla navigation will now take predicted crosswind, headwind, humidity &amp;amp; temperature into account for calculating battery % on a…</td>\n",
       "      <td>neu</td>\n",
       "    </tr>\n",
       "  </tbody>\n",
       "</table>\n",
       "</div>"
      ],
      "text/plain": [
       "                                                                                                                                                                                                                                                                               tweets  \\\n",
       "15  It is rare for me to endorse political candidates. My political leanings are moderate, so neither fully Republican nor Democrat, which I am confident is the case for most Americans.Executive competence is super underrated in politics – we should care about that a lot more!   \n",
       "17                                                                                                                                                                                   When thinking about deep time, what is more astounding is to think about how much time is ahead!   \n",
       "19                                    Realized what I have in common with environmentalists, but also why they’re so annoyingly wrong: They are conservationists of what is, whereas they should be conservationists of our potential over time, our cosmic endowment.(From a friend)   \n",
       "34                                                                                                                                                                                                                            10 years since SpaceX’s first mission to @Space_Station   \n",
       "27                                                                                                                                                                                                                  Tesla Plaid S cruising around Austin with volume at 11 is sublime   \n",
       "3                                                                                                                                                                                                                                                                         Literally …   \n",
       "1                                                                                                                                                                              RT @SpaceX: Two years ago yesterday, SpaceX launched its first human spaceflight to the @space_station   \n",
       "6                                                                                                                                                                                                                                               What resolution is life in, 8k? – SJM   \n",
       "11                                                                                                                                                                                                    Tomorrow will be the first sunrise of the rest of ur life – make it what u want   \n",
       "28                                                                                                                                   RT @Tesla: Tesla navigation will now take predicted crosswind, headwind, humidity &amp; temperature into account for calculating battery % on a…   \n",
       "\n",
       "   sentiment  \n",
       "15       neu  \n",
       "17       pos  \n",
       "19       neg  \n",
       "34       neu  \n",
       "27       neu  \n",
       "3        neu  \n",
       "1        neu  \n",
       "6        neu  \n",
       "11       pos  \n",
       "28       neu  "
      ]
     },
     "execution_count": 39,
     "metadata": {},
     "output_type": "execute_result"
    }
   ],
   "source": [
    "pd.DataFrame({'tweets': predicted_answers.index, 'sentiment': predicted_answers.values}).sample(10)"
   ]
  },
  {
   "cell_type": "markdown",
   "metadata": {},
   "source": [
    "And finally let's count tweets by sentiment"
   ]
  },
  {
   "cell_type": "code",
   "execution_count": 40,
   "metadata": {},
   "outputs": [
    {
     "data": {
      "text/plain": [
       "neu    22\n",
       "pos     9\n",
       "neg     4\n",
       "Name: agg_label, dtype: int64"
      ]
     },
     "execution_count": 40,
     "metadata": {},
     "output_type": "execute_result"
    }
   ],
   "source": [
    "predicted_answers.value_counts()"
   ]
  },
  {
   "cell_type": "code",
   "execution_count": null,
   "metadata": {},
   "outputs": [],
   "source": []
  }
 ],
 "metadata": {
  "interpreter": {
   "hash": "aee8b7b246df8f9039afb4144a1f6fd8d2ca17a180786b69acc140d282b71a49"
  },
  "kernelspec": {
   "display_name": "Python 3 (ipykernel)",
   "language": "python",
   "name": "python3"
  },
  "language_info": {
   "codemirror_mode": {
    "name": "ipython",
    "version": 3
   },
   "file_extension": ".py",
   "mimetype": "text/x-python",
   "name": "python",
   "nbconvert_exporter": "python",
   "pygments_lexer": "ipython3",
   "version": "3.9.0"
  }
 },
 "nbformat": 4,
 "nbformat_minor": 2
}
